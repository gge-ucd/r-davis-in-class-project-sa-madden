{
 "cells": [
  {
   "cell_type": "markdown",
   "id": "6b80a860-7ee5-4213-9cc8-7cd8d9f29da1",
   "metadata": {},
   "source": [
    "**bold**\n",
    "___italicized___\n"
   ]
  },
  {
   "cell_type": "code",
   "execution_count": null,
   "id": "d8452778-6fc9-4540-babe-505338174a12",
   "metadata": {},
   "outputs": [],
   "source": [
    "# Is this a comment?\n",
    "x = 3\n",
    "print(x)"
   ]
  }
 ],
 "metadata": {
  "kernelspec": {
   "display_name": "Python 3",
   "language": "python",
   "name": "python3"
  },
  "language_info": {
   "codemirror_mode": {
    "name": "ipython",
    "version": 3
   },
   "file_extension": ".py",
   "mimetype": "text/x-python",
   "name": "python",
   "nbconvert_exporter": "python",
   "pygments_lexer": "ipython3",
   "version": "3.8.8"
  }
 },
 "nbformat": 4,
 "nbformat_minor": 5
}
