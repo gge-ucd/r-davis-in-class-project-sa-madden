{
 "cells": [
  {
   "cell_type": "markdown",
   "id": "27a419a7-d4d8-4e8c-810b-8b497c92c53e",
   "metadata": {},
   "source": [
    "This week’s questions will have us practicing pivots and conditional statements.\n",
    "\n",
    "Create a tibble named surveys from the portal_data_joined.csv file. Then manipulate surveys to create a new dataframe called surveys_wide with a column for genus and a column named after every plot type, with each of these columns containing the mean hindfoot length of animals in that plot type and genus. So every row has a genus and then a mean hindfoot length value for every plot type. The dataframe should be sorted by values in the Control plot type column. This question will involve quite a few of the functions you’ve used so far, and it may be useful to sketch out the steps to get to the final result.\n",
    "\n",
    "Using the original surveys dataframe, use the two different functions we laid out for conditional statements, ifelse() and case_when(), to calculate a new weight category variable called weight_cat. For this variable, define the rodent weight into three categories, where “small” is less than or equal to the 1st quartile of weight distribution, “medium” is between (but not inclusive) the 1st and 3rd quartile, and “large” is any weight greater than or equal to the 3rd quartile. (Hint: the summary() function on a column summarizes the distribution). For ifelse() and case_when(), compare what happens to the weight values of NA, depending on how you specify your arguments.\n",
    "\n",
    "BONUS: How might you soft code the values (i.e. not type them in manually) of the 1st and 3rd quartile into your conditional statements in question 2?"
   ]
  },
  {
   "cell_type": "markdown",
   "id": "4a413ac2-f0b3-4e47-8f41-dcd29a6fe89f",
   "metadata": {},
   "source": [
    "# Week 5 homework\n",
    "## Sage Madden\n",
    "## 10/21/2021"
   ]
  },
  {
   "cell_type": "code",
   "execution_count": 1,
   "id": "6a834fcc-d943-4e9e-a0aa-06f33c103594",
   "metadata": {},
   "outputs": [],
   "source": [
    "# Import libraries\n",
    "import pandas as pd\n",
    "from dplython import (DplyFrame, X, diamonds, select, sift,\n",
    "  sample_n, sample_frac, head, arrange, mutate, group_by,\n",
    "  summarize, DelayFunction)\n",
    "import numpy as np"
   ]
  },
  {
   "cell_type": "code",
   "execution_count": 2,
   "id": "1950230f-fb23-4f51-a69d-069ae7d53858",
   "metadata": {},
   "outputs": [],
   "source": [
    "# Read in surveys data\n",
    "surveys = DplyFrame(pd.read_csv(\"../data/portal_data_joined.csv\"))"
   ]
  },
  {
   "cell_type": "markdown",
   "id": "cbef2e44-dbc2-4180-a211-9083ac55e73a",
   "metadata": {},
   "source": [
    "Create a tibble named surveys from the portal_data_joined.csv file. Then manipulate surveys to create a new dataframe called surveys_wide with a column for genus and a column named after every plot type, with each of these columns containing the mean hindfoot length of animals in that plot type and genus. So every row has a genus and then a mean hindfoot length value for every plot type. The dataframe should be sorted by values in the Control plot type column. This question will involve quite a few of the functions you’ve used so far, and it may be useful to sketch out the steps to get to the final result."
   ]
  },
  {
   "cell_type": "code",
   "execution_count": 6,
   "id": "e9cb5635-6b22-4420-88c9-5fc884e97341",
   "metadata": {},
   "outputs": [
    {
     "name": "stdout",
     "output_type": "stream",
     "text": [
      "<bound method NDFrame.head of                     plot_type             genus  mean_hindfoot\n",
      "0                     Control  Ammospermophilus      31.000000\n",
      "1                     Control           Baiomys      13.000000\n",
      "2                     Control       Chaetodipus      23.616782\n",
      "3                     Control         Dipodomys      37.773260\n",
      "4                     Control           Neotoma      32.239923\n",
      "5                     Control         Onychomys      20.366379\n",
      "6                     Control       Perognathus      15.867322\n",
      "7                     Control        Peromyscus      20.289593\n",
      "8                     Control   Reithrodontomys      16.561224\n",
      "9                     Control          Sigmodon      27.814286\n",
      "10   Long-term Krat Exclosure           Baiomys      12.916667\n",
      "11   Long-term Krat Exclosure       Chaetodipus      24.134494\n",
      "12   Long-term Krat Exclosure         Dipodomys      36.688235\n",
      "13   Long-term Krat Exclosure           Neotoma      32.482993\n",
      "14   Long-term Krat Exclosure         Onychomys      20.289474\n",
      "15   Long-term Krat Exclosure       Perognathus      15.775926\n",
      "16   Long-term Krat Exclosure        Peromyscus      20.304965\n",
      "17   Long-term Krat Exclosure   Reithrodontomys      16.358297\n",
      "18   Long-term Krat Exclosure          Sigmodon      28.040404\n",
      "19           Rodent Exclosure  Ammospermophilus      35.000000\n",
      "20           Rodent Exclosure           Baiomys      13.500000\n",
      "21           Rodent Exclosure       Chaetodipus      22.689420\n",
      "22           Rodent Exclosure         Dipodomys      36.935150\n",
      "23           Rodent Exclosure           Neotoma      32.398374\n",
      "24           Rodent Exclosure         Onychomys      20.262500\n",
      "25           Rodent Exclosure       Perognathus      16.076923\n",
      "26           Rodent Exclosure        Peromyscus      20.254342\n",
      "27           Rodent Exclosure   Reithrodontomys      16.508964\n",
      "28           Rodent Exclosure          Sigmodon      28.153846\n",
      "29  Short-term Krat Exclosure           Baiomys      13.000000\n",
      "30  Short-term Krat Exclosure       Chaetodipus      24.299213\n",
      "31  Short-term Krat Exclosure         Dipodomys      38.809496\n",
      "32  Short-term Krat Exclosure           Neotoma      32.242991\n",
      "33  Short-term Krat Exclosure         Onychomys      20.334426\n",
      "34  Short-term Krat Exclosure       Perognathus      15.704595\n",
      "35  Short-term Krat Exclosure        Peromyscus      20.300813\n",
      "36  Short-term Krat Exclosure   Reithrodontomys      16.465995\n",
      "37  Short-term Krat Exclosure          Sigmodon      25.689655\n",
      "38          Spectab exclosure           Baiomys      14.000000\n",
      "39          Spectab exclosure       Chaetodipus      23.229213\n",
      "40          Spectab exclosure         Dipodomys      38.272934\n",
      "41          Spectab exclosure           Neotoma      32.275362\n",
      "42          Spectab exclosure         Onychomys      20.432526\n",
      "43          Spectab exclosure       Perognathus      15.808824\n",
      "44          Spectab exclosure        Peromyscus      20.472727\n",
      "45          Spectab exclosure   Reithrodontomys      16.588235\n",
      "46          Spectab exclosure          Sigmodon      26.500000>\n",
      "plot_type           Control  Long-term Krat Exclosure  Rodent Exclosure  \\\n",
      "genus                                                                     \n",
      "Baiomys           13.000000                 12.916667         13.500000   \n",
      "Perognathus       15.867322                 15.775926         16.076923   \n",
      "Reithrodontomys   16.561224                 16.358297         16.508964   \n",
      "Peromyscus        20.289593                 20.304965         20.254342   \n",
      "Onychomys         20.366379                 20.289474         20.262500   \n",
      "Chaetodipus       23.616782                 24.134494         22.689420   \n",
      "Sigmodon          27.814286                 28.040404         28.153846   \n",
      "Ammospermophilus  31.000000                       NaN         35.000000   \n",
      "Neotoma           32.239923                 32.482993         32.398374   \n",
      "Dipodomys         37.773260                 36.688235         36.935150   \n",
      "\n",
      "plot_type         Short-term Krat Exclosure  Spectab exclosure  \n",
      "genus                                                           \n",
      "Baiomys                           13.000000          14.000000  \n",
      "Perognathus                       15.704595          15.808824  \n",
      "Reithrodontomys                   16.465995          16.588235  \n",
      "Peromyscus                        20.300813          20.472727  \n",
      "Onychomys                         20.334426          20.432526  \n",
      "Chaetodipus                       24.299213          23.229213  \n",
      "Sigmodon                          25.689655          26.500000  \n",
      "Ammospermophilus                        NaN                NaN  \n",
      "Neotoma                           32.242991          32.275362  \n",
      "Dipodomys                         38.809496          38.272934  \n"
     ]
    }
   ],
   "source": [
    "# We want a column for genus and column for each plot type\n",
    "# Each column contains the mean hindfoot length of animals in that plot type and genus\n",
    "# First I want to calculate a mean hindfoot length by genus and plot type using dplython functions\n",
    "# Then I want to find a pivot_wide equivalent to create individual columns by plot type (make it wide) \n",
    "\n",
    "# Calculate mean hindfoot length by genus and plot type \n",
    "hindfoot_summ = surveys >> sift(X.hindfoot_length.notna()) >> group_by(X.plot_type, X.genus) >> summarize(mean_hindfoot = X.hindfoot_length.mean())\n",
    "print(hindfoot_summ.head)\n",
    "\n",
    "# Now I want to pivot wide such that I have one column for each plot type\n",
    "surveys_wide = hindfoot_summ.pivot(index = \"genus\", columns = \"plot_type\", values = \"mean_hindfoot\") \n",
    "\n",
    "# Sort by values in the Control column\n",
    "surveys_wide = DplyFrame(surveys_wide) >> arrange(X.Control)\n",
    "print(surveys_wide)"
   ]
  },
  {
   "cell_type": "markdown",
   "id": "5ca9c9af-2f6d-4c61-bae9-f1ce47690234",
   "metadata": {},
   "source": [
    "Using the original surveys dataframe, use the two different functions we laid out for conditional statements, ifelse() and case_when(), to calculate a new weight category variable called weight_cat. For this variable, define the rodent weight into three categories, where “small” is less than or equal to the 1st quartile of weight distribution, “medium” is between (but not inclusive) the 1st and 3rd quartile, and “large” is any weight greater than or equal to the 3rd quartile. (Hint: the summary() function on a column summarizes the distribution). For ifelse() and case_when(), compare what happens to the weight values of NA, depending on how you specify your arguments."
   ]
  },
  {
   "cell_type": "code",
   "execution_count": 18,
   "id": "fa324813-7d19-4d95-9e51-ec9195d4b347",
   "metadata": {},
   "outputs": [
    {
     "name": "stdout",
     "output_type": "stream",
     "text": [
      "8        218.0\n",
      "11       204.0\n",
      "12       200.0\n",
      "13       199.0\n",
      "14       197.0\n",
      "         ...  \n",
      "34779     22.0\n",
      "34780     16.0\n",
      "34781     16.0\n",
      "34782     22.0\n",
      "34783      8.0\n",
      "Name: weight, Length: 32283, dtype: float64\n"
     ]
    },
    {
     "name": "stderr",
     "output_type": "stream",
     "text": [
      "c:\\users\\sagem\\appdata\\local\\programs\\python\\python37\\lib\\site-packages\\pandas\\core\\indexing.py:670: SettingWithCopyWarning: \n",
      "A value is trying to be set on a copy of a slice from a DataFrame\n",
      "\n",
      "See the caveats in the documentation: https://pandas.pydata.org/pandas-docs/stable/user_guide/indexing.html#returning-a-view-versus-a-copy\n",
      "  iloc._setitem_with_indexer(indexer, value)\n"
     ]
    },
    {
     "name": "stdout",
     "output_type": "stream",
     "text": [
      "<bound method NDFrame.head of        record_id  month  day  year  plot_id species_id sex  hindfoot_length  \\\n",
      "8            588      2   18  1978        2         NL   M              NaN   \n",
      "11           845      5    6  1978        2         NL   M             32.0   \n",
      "12           990      6    9  1978        2         NL   M              NaN   \n",
      "13          1164      8    5  1978        2         NL   M             34.0   \n",
      "14          1261      9    4  1978        2         NL   M             32.0   \n",
      "...          ...    ...  ...   ...      ...        ...  ..              ...   \n",
      "34779      26557      7   29  1997        7         PL   F             20.0   \n",
      "34780      26787      9   27  1997        7         PL   F             21.0   \n",
      "34781      26966     10   25  1997        7         PL   M             20.0   \n",
      "34782      27185     11   22  1997        7         PL   F             21.0   \n",
      "34783      27792      5    2  1998        7         PL   F             20.0   \n",
      "\n",
      "       weight       genus   species    taxa         plot_type weight_cat  \n",
      "8       218.0     Neotoma  albigula  Rodent           Control      large  \n",
      "11      204.0     Neotoma  albigula  Rodent           Control      large  \n",
      "12      200.0     Neotoma  albigula  Rodent           Control      large  \n",
      "13      199.0     Neotoma  albigula  Rodent           Control      large  \n",
      "14      197.0     Neotoma  albigula  Rodent           Control      large  \n",
      "...       ...         ...       ...     ...               ...        ...  \n",
      "34779    22.0  Peromyscus  leucopus  Rodent  Rodent Exclosure     medium  \n",
      "34780    16.0  Peromyscus  leucopus  Rodent  Rodent Exclosure      small  \n",
      "34781    16.0  Peromyscus  leucopus  Rodent  Rodent Exclosure      small  \n",
      "34782    22.0  Peromyscus  leucopus  Rodent  Rodent Exclosure     medium  \n",
      "34783     8.0  Peromyscus  leucopus  Rodent  Rodent Exclosure      small  \n",
      "\n",
      "[32283 rows x 14 columns]>\n"
     ]
    }
   ],
   "source": [
    "# If else method\n",
    "surveys[\"weight_cat\"] = \"\"\n",
    "\n",
    "surveys = surveys >> sift(X.weight.notna())\n",
    "print(surveys[\"weight\"])\n",
    "\n",
    "\n",
    "# Long form for loop to add the new weight category column \n",
    "for i, weight in enumerate(surveys[\"weight\"]):\n",
    "    if weight <= surveys[\"weight\"].quantile(0.25):\n",
    "        surveys[\"weight_cat\"].iloc[i] = \"small\"\n",
    "    elif weight >= surveys[\"weight\"].quantile(0.75):\n",
    "        surveys[\"weight_cat\"].iloc[i] = \"large\"\n",
    "    else:\n",
    "        surveys[\"weight_cat\"].iloc[i] = \"medium\"\n",
    "# Warning indicates that the changes might not make it back to the original df (I think), but that doesn't seem to have \n",
    "# happened here based on the print statement\n",
    "\n",
    "print(surveys.head)"
   ]
  }
 ],
 "metadata": {
  "kernelspec": {
   "display_name": "Python 3 (ipykernel)",
   "language": "python",
   "name": "python3"
  },
  "language_info": {
   "codemirror_mode": {
    "name": "ipython",
    "version": 3
   },
   "file_extension": ".py",
   "mimetype": "text/x-python",
   "name": "python",
   "nbconvert_exporter": "python",
   "pygments_lexer": "ipython3",
   "version": "3.7.9"
  }
 },
 "nbformat": 4,
 "nbformat_minor": 5
}
