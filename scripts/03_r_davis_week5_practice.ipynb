{
 "cells": [
  {
   "cell_type": "markdown",
   "id": "91aa98ef-ca3e-47df-92eb-353e786e19c0",
   "metadata": {},
   "source": [
    "# Week 5 practice\n",
    "## Sage Madden\n",
    "## 10/21/2021"
   ]
  },
  {
   "cell_type": "code",
   "execution_count": 8,
   "id": "7be310b0-7205-40b8-b260-da8520dfa3ed",
   "metadata": {},
   "outputs": [],
   "source": [
    "# Import libraries\n",
    "import pandas as pd\n",
    "from dplython import (DplyFrame, X, diamonds, select, sift,\n",
    "  sample_n, sample_frac, head, arrange, mutate, group_by,\n",
    "  summarize, DelayFunction)\n",
    "import numpy as np"
   ]
  },
  {
   "cell_type": "code",
   "execution_count": 9,
   "id": "a365a6ca-01e1-4425-870c-106875dff999",
   "metadata": {},
   "outputs": [],
   "source": [
    "# Not sure how to get iris on python, so working with others "
   ]
  },
  {
   "cell_type": "code",
   "execution_count": 15,
   "id": "2df7f5c8-d2c6-44b6-92bb-de20a3b65d74",
   "metadata": {},
   "outputs": [
    {
     "name": "stdout",
     "output_type": "stream",
     "text": [
      "Index(['record_id', 'month', 'day', 'year', 'plot_id', 'species_id', 'sex',\n",
      "       'hindfoot_length', 'weight', 'genus', 'species', 'taxa', 'plot_type'],\n",
      "      dtype='object')\n",
      "Index(['record_id', 'tail_length'], dtype='object')\n",
      "<bound method NDFrame.head of        record_id  month  day  year  plot_id species_id  sex  hindfoot_length  \\\n",
      "0              1      7   16  1977        2         NL    M             32.0   \n",
      "1             72      8   19  1977        2         NL    M             31.0   \n",
      "2            224      9   13  1977        2         NL  NaN              NaN   \n",
      "3            266     10   16  1977        2         NL  NaN              NaN   \n",
      "4            349     11   12  1977        2         NL  NaN              NaN   \n",
      "...          ...    ...  ...   ...      ...        ...  ...              ...   \n",
      "34781      26966     10   25  1997        7         PL    M             20.0   \n",
      "34782      27185     11   22  1997        7         PL    F             21.0   \n",
      "34783      27792      5    2  1998        7         PL    F             20.0   \n",
      "34784      28806     11   21  1998        7         PX  NaN              NaN   \n",
      "34785      30986      7    1  2000        7         PX  NaN              NaN   \n",
      "\n",
      "       weight        genus   species    taxa         plot_type  tail_length  \n",
      "0         NaN      Neotoma  albigula  Rodent           Control     8.458136  \n",
      "1         NaN      Neotoma  albigula  Rodent           Control     6.272559  \n",
      "2         NaN      Neotoma  albigula  Rodent           Control     7.468985  \n",
      "3         NaN      Neotoma  albigula  Rodent           Control     6.452339  \n",
      "4         NaN      Neotoma  albigula  Rodent           Control     8.064031  \n",
      "...       ...          ...       ...     ...               ...          ...  \n",
      "34781    16.0   Peromyscus  leucopus  Rodent  Rodent Exclosure     8.732849  \n",
      "34782    22.0   Peromyscus  leucopus  Rodent  Rodent Exclosure     7.228909  \n",
      "34783     8.0   Peromyscus  leucopus  Rodent  Rodent Exclosure     8.010974  \n",
      "34784     NaN  Chaetodipus       sp.  Rodent  Rodent Exclosure     8.414485  \n",
      "34785     NaN  Chaetodipus       sp.  Rodent  Rodent Exclosure    10.270512  \n",
      "\n",
      "[34786 rows x 14 columns]>\n"
     ]
    }
   ],
   "source": [
    "# Join surveys and tail length\n",
    "# Read in data\n",
    "surveys = DplyFrame(pd.read_csv(\"../data/portal_data_joined.csv\"))\n",
    "tail_length = DplyFrame(pd.read_csv(\"../data/tail_length.csv\"))\n",
    "\n",
    "# View column names for each\n",
    "print(surveys.columns)\n",
    "print(tail_length.columns)\n",
    "\n",
    "# Join the two \n",
    "combo_df = surveys.merge(tail_length, how = \"left\", left_on = [\"record_id\"], right_on = [\"record_id\"])\n",
    "print(combo_df.head)"
   ]
  },
  {
   "cell_type": "markdown",
   "id": "0121dd34-4dd4-46df-a916-e7391397b312",
   "metadata": {},
   "source": [
    "Use pivot_wider on the surveys data frame with year as columns, plot_id as rows, and the number of genera per plot as the values. You will need to summarize before reshaping, and use the function n_distinct() to get the number of unique genera within a particular chunk of data. It’s a powerful function! See ?n_distinct for more."
   ]
  },
  {
   "cell_type": "code",
   "execution_count": 28,
   "id": "d32c366a-0b90-4ec0-833e-06052867c482",
   "metadata": {},
   "outputs": [
    {
     "name": "stdout",
     "output_type": "stream",
     "text": [
      "     year  plot_id  genus\n",
      "0    1977        1      2\n",
      "1    1977        2      6\n",
      "2    1977        3      5\n",
      "3    1977        4      4\n",
      "4    1977        5      4\n",
      "..    ...      ...    ...\n",
      "614  2002       20      7\n",
      "615  2002       21      3\n",
      "616  2002       22      5\n",
      "617  2002       23      5\n",
      "618  2002       24      6\n",
      "\n",
      "[619 rows x 3 columns]\n",
      "<bound method NDFrame.head of year     1977  1978  1979  1980  1981  1982  1983  1984  1985  1986  ...  \\\n",
      "plot_id                                                              ...   \n",
      "1         2.0   3.0   4.0   7.0   5.0   6.0   7.0   6.0   4.0   3.0  ...   \n",
      "2         6.0   6.0   6.0   8.0   5.0   9.0   9.0   9.0   6.0   4.0  ...   \n",
      "3         5.0   6.0   4.0   6.0   6.0   8.0  10.0  11.0   7.0   6.0  ...   \n",
      "4         4.0   4.0   3.0   4.0   5.0   4.0   6.0   3.0   4.0   3.0  ...   \n",
      "5         4.0   3.0   2.0   5.0   4.0   6.0   7.0   7.0   3.0   1.0  ...   \n",
      "6         3.0   4.0   3.0   4.0   5.0   9.0   9.0   7.0   5.0   6.0  ...   \n",
      "7         3.0   1.0   3.0   1.0   1.0   4.0   2.0   3.0   4.0   3.0  ...   \n",
      "8         2.0   4.0   3.0   5.0   6.0   6.0   4.0   6.0   4.0   3.0  ...   \n",
      "9         3.0   3.0   3.0   4.0   5.0   6.0   7.0   4.0   5.0   3.0  ...   \n",
      "10        1.0   NaN   2.0   5.0   5.0   8.0   4.0   2.0   3.0   1.0  ...   \n",
      "11        5.0   6.0   5.0   6.0   8.0   8.0   9.0   7.0   5.0   6.0  ...   \n",
      "12        5.0   4.0   4.0   5.0   7.0  10.0   9.0   9.0   8.0   7.0  ...   \n",
      "13        3.0   6.0   5.0   6.0   5.0   7.0   7.0   6.0   4.0   8.0  ...   \n",
      "14        3.0   5.0   4.0   3.0   6.0   9.0   6.0   6.0   7.0   5.0  ...   \n",
      "15        2.0   5.0   5.0   4.0   9.0   8.0   8.0   8.0   5.0   5.0  ...   \n",
      "16        3.0   2.0   2.0   3.0   3.0   8.0   5.0   3.0   4.0   7.0  ...   \n",
      "17        4.0   6.0   4.0   6.0   7.0   6.0   8.0   6.0   6.0   5.0  ...   \n",
      "18        2.0   7.0   4.0   6.0   4.0   9.0   5.0   5.0   5.0   6.0  ...   \n",
      "19        4.0   4.0   5.0   7.0   6.0   7.0   6.0   4.0   8.0   4.0  ...   \n",
      "20        3.0   6.0   6.0   7.0   8.0  10.0   9.0   6.0   5.0   7.0  ...   \n",
      "21        3.0   4.0   4.0   6.0   6.0   7.0   8.0   4.0   7.0   5.0  ...   \n",
      "22        4.0   4.0   3.0   6.0   4.0   5.0   7.0   5.0   7.0   4.0  ...   \n",
      "23        1.0   NaN   2.0   4.0   4.0   9.0   5.0   5.0   3.0   5.0  ...   \n",
      "24        NaN   NaN   4.0   6.0   5.0   7.0   9.0   6.0   8.0   5.0  ...   \n",
      "\n",
      "year     1993  1994  1995  1996  1997  1998  1999  2000  2001  2002  \n",
      "plot_id                                                              \n",
      "1         5.0   6.0   5.0   5.0   7.0   5.0   5.0   5.0   4.0   6.0  \n",
      "2         8.0   5.0   6.0   7.0   7.0   5.0   6.0   7.0   7.0   7.0  \n",
      "3         6.0   5.0   6.0   7.0   8.0   7.0   5.0   4.0   5.0   5.0  \n",
      "4         3.0   3.0   4.0   6.0   8.0   4.0   4.0   5.0   5.0   5.0  \n",
      "5         4.0   5.0   8.0   7.0   6.0   6.0   3.0   3.0   2.0   4.0  \n",
      "6         5.0   4.0   7.0   6.0  10.0   5.0   5.0   4.0   5.0   9.0  \n",
      "7         4.0   4.0   5.0   4.0   5.0   4.0   3.0   4.0   6.0   5.0  \n",
      "8         4.0   6.0   6.0   6.0   6.0   4.0   5.0   3.0   4.0   3.0  \n",
      "9         2.0   4.0   5.0   7.0   8.0   7.0   3.0   7.0   5.0   7.0  \n",
      "10        1.0   2.0   3.0   2.0   3.0   2.0   1.0   2.0   NaN   2.0  \n",
      "11        4.0   2.0   6.0   7.0   7.0   5.0   5.0   3.0   5.0   8.0  \n",
      "12        7.0   3.0   7.0   9.0   8.0   6.0   7.0   6.0   5.0   7.0  \n",
      "13        9.0   6.0   8.0   8.0   6.0   6.0   3.0   3.0   4.0   8.0  \n",
      "14        6.0   4.0   5.0   6.0   8.0   7.0   4.0   4.0   8.0   7.0  \n",
      "15        6.0   5.0   7.0   6.0   8.0   7.0   4.0   6.0   5.0   8.0  \n",
      "16        5.0   3.0   4.0   5.0   5.0   6.0   3.0   6.0   5.0   7.0  \n",
      "17        7.0   4.0   7.0   7.0   8.0   7.0   6.0   4.0   7.0   6.0  \n",
      "18        5.0   4.0   4.0   3.0   7.0   4.0   4.0   7.0   5.0   6.0  \n",
      "19        5.0   4.0   4.0   5.0   5.0   5.0   4.0   2.0   7.0   8.0  \n",
      "20        6.0   6.0   8.0   6.0   7.0   8.0   6.0   4.0   9.0   7.0  \n",
      "21        4.0   3.0   4.0   6.0   6.0   8.0   6.0   1.0   3.0   3.0  \n",
      "22        4.0   3.0   7.0   4.0   7.0   5.0   3.0   3.0   5.0   5.0  \n",
      "23        3.0   2.0   5.0   5.0   4.0   2.0   4.0   2.0   6.0   5.0  \n",
      "24        4.0   4.0   3.0   3.0   6.0   5.0   4.0   6.0   8.0   6.0  \n",
      "\n",
      "[24 rows x 26 columns]>\n"
     ]
    }
   ],
   "source": [
    "# Get number of unique genera by year and plot_id\n",
    "temp_df = surveys.groupby([\"year\", \"plot_id\"])[\"genus\"].nunique().reset_index()\n",
    "print(temp_df)\n",
    "\n",
    "# Pivot wide\n",
    "temp_pivoted = temp_df.pivot(index = \"plot_id\", columns = \"year\", values = \"genus\") \n",
    "print(temp_pivoted.head)\n"
   ]
  }
 ],
 "metadata": {
  "kernelspec": {
   "display_name": "Python 3 (ipykernel)",
   "language": "python",
   "name": "python3"
  },
  "language_info": {
   "codemirror_mode": {
    "name": "ipython",
    "version": 3
   },
   "file_extension": ".py",
   "mimetype": "text/x-python",
   "name": "python",
   "nbconvert_exporter": "python",
   "pygments_lexer": "ipython3",
   "version": "3.7.9"
  }
 },
 "nbformat": 4,
 "nbformat_minor": 5
}
