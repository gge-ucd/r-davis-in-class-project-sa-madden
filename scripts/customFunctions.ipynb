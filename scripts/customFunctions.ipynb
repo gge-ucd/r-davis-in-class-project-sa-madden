{
 "cells": [
  {
   "cell_type": "markdown",
   "id": "2491fed5-178a-440a-b32f-6840df683566",
   "metadata": {},
   "source": [
    "# Final homework: custom function\n",
    "## Sage Madden\n",
    "## 12/21/21"
   ]
  },
  {
   "cell_type": "code",
   "execution_count": 1,
   "id": "737b39ac-35f8-4b53-84f6-8ea45c878e9b",
   "metadata": {},
   "outputs": [],
   "source": [
    "# My function for homework 7. Not sure how else to have it as a separate script\n",
    "def convert_hours_minutes(time, output):\n",
    "    if output == \"Minutes\":\n",
    "        return(time*60)\n",
    "    elif output == \"Hours\":\n",
    "        return(time/60)\n",
    "    else:\n",
    "        return(\"Invalid output. Valid outputs: 'Minutes', 'Hours'\")"
   ]
  }
 ],
 "metadata": {
  "kernelspec": {
   "display_name": "Python 3 (ipykernel)",
   "language": "python",
   "name": "python3"
  },
  "language_info": {
   "codemirror_mode": {
    "name": "ipython",
    "version": 3
   },
   "file_extension": ".py",
   "mimetype": "text/x-python",
   "name": "python",
   "nbconvert_exporter": "python",
   "pygments_lexer": "ipython3",
   "version": "3.7.9"
  }
 },
 "nbformat": 4,
 "nbformat_minor": 5
}
