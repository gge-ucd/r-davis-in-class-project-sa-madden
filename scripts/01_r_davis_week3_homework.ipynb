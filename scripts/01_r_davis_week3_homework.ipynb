{
 "cells": [
  {
   "cell_type": "markdown",
   "id": "7832b67f-d520-4327-8a76-09d54463e370",
   "metadata": {},
   "source": [
    "# Week 3 Homework\n",
    "## Sage Madden\n",
    "## Created 10/13/2021"
   ]
  },
  {
   "cell_type": "code",
   "execution_count": 1,
   "id": "b5faa213-5a75-499a-a7f8-12e3b0ffd3e5",
   "metadata": {},
   "outputs": [],
   "source": [
    "# Read in pandas library\n",
    "import pandas as pd"
   ]
  },
  {
   "cell_type": "code",
   "execution_count": 8,
   "id": "8b091ade-4288-4095-904b-6b6b6341d4b0",
   "metadata": {},
   "outputs": [
    {
     "data": {
      "text/plain": [
       "<bound method NDFrame.head of        record_id  month  day  year  plot_id species_id  sex  hindfoot_length  \\\n",
       "0              1      7   16  1977        2         NL    M             32.0   \n",
       "1             72      8   19  1977        2         NL    M             31.0   \n",
       "2            224      9   13  1977        2         NL  NaN              NaN   \n",
       "3            266     10   16  1977        2         NL  NaN              NaN   \n",
       "4            349     11   12  1977        2         NL  NaN              NaN   \n",
       "...          ...    ...  ...   ...      ...        ...  ...              ...   \n",
       "34781      26966     10   25  1997        7         PL    M             20.0   \n",
       "34782      27185     11   22  1997        7         PL    F             21.0   \n",
       "34783      27792      5    2  1998        7         PL    F             20.0   \n",
       "34784      28806     11   21  1998        7         PX  NaN              NaN   \n",
       "34785      30986      7    1  2000        7         PX  NaN              NaN   \n",
       "\n",
       "       weight        genus   species    taxa         plot_type  \n",
       "0         NaN      Neotoma  albigula  Rodent           Control  \n",
       "1         NaN      Neotoma  albigula  Rodent           Control  \n",
       "2         NaN      Neotoma  albigula  Rodent           Control  \n",
       "3         NaN      Neotoma  albigula  Rodent           Control  \n",
       "4         NaN      Neotoma  albigula  Rodent           Control  \n",
       "...       ...          ...       ...     ...               ...  \n",
       "34781    16.0   Peromyscus  leucopus  Rodent  Rodent Exclosure  \n",
       "34782    22.0   Peromyscus  leucopus  Rodent  Rodent Exclosure  \n",
       "34783     8.0   Peromyscus  leucopus  Rodent  Rodent Exclosure  \n",
       "34784     NaN  Chaetodipus       sp.  Rodent  Rodent Exclosure  \n",
       "34785     NaN  Chaetodipus       sp.  Rodent  Rodent Exclosure  \n",
       "\n",
       "[34786 rows x 13 columns]>"
      ]
     },
     "execution_count": 8,
     "metadata": {},
     "output_type": "execute_result"
    }
   ],
   "source": [
    "# Load in surveys data\n",
    "surveys = pd.read_csv(\"../data/portal_data_joined.csv\")\n",
    "surveys.head"
   ]
  },
  {
   "cell_type": "code",
   "execution_count": 70,
   "id": "919a577c-667e-438e-9623-354f8ea19b54",
   "metadata": {},
   "outputs": [
    {
     "name": "stdout",
     "output_type": "stream",
     "text": [
      "['species_id', 'weight', 'plot_type']\n",
      "60\n"
     ]
    }
   ],
   "source": [
    "# Create a new data frame (surveys_base) containing only species_id, weight, and plot_type\n",
    "# Also include only the first 60 rows\n",
    "surveys_base = surveys[[\"species_id\", \"weight\", \"plot_type\"]].iloc[0:60 ]\n",
    "\n",
    "# Get column names\n",
    "print(list(surveys_base.columns.values))\n",
    "\n",
    "# Get the number of rows\n",
    "print(surveys_base.shape[0])"
   ]
  },
  {
   "cell_type": "code",
   "execution_count": 71,
   "id": "3c2315a3-8382-478e-8666-d3afb0c7d36b",
   "metadata": {},
   "outputs": [
    {
     "name": "stdout",
     "output_type": "stream",
     "text": [
      "<bound method NDFrame.head of 0   species_id         NL\n",
      "    plot_type     Control\n",
      "1   species_id         NL\n",
      "    plot_type     Control\n",
      "2   species_id         NL\n",
      "                   ...   \n",
      "57  plot_type     Control\n",
      "58  species_id         NL\n",
      "    plot_type     Control\n",
      "59  species_id         NL\n",
      "    plot_type     Control\n",
      "Length: 120, dtype: object>\n",
      "<class 'pandas.core.series.Series'>\n",
      "   species_id  weight  plot_type\n",
      "0           0     NaN          1\n",
      "1           0     NaN          1\n",
      "2           0     NaN          1\n",
      "3           0     NaN          1\n",
      "4           0     NaN          1\n",
      "<class 'pandas.core.series.Series'>\n"
     ]
    }
   ],
   "source": [
    "# Original assignment: convert species_id and plot_type to factors\n",
    "# Factors do not exist in base python, but there is a function from pandas that casts categorical variables as numbers in a way that\n",
    "# seems equivalent to R factors \n",
    "surveys_base_stacked = surveys_base[[\"species_id\",\"plot_type\"]].stack()\n",
    "print(surveys_base_stacked.head)\n",
    "print(type(surveys_base_stacked))\n",
    "# .stack() returns a reshaped df with a multi-level index and new inner levels compared to the original dataframe\n",
    "\n",
    "surveys_base[[\"species_id\",\"plot_type\"]] = pd.Series(surveys_base_stacked.factorize()[0], index = surveys_base_stacked.index).unstack()\n",
    "# pd.Series creates a ond-dimensional array with axis labels (??)\n",
    "# factorize() casts categorical variables as numbers. It results in an array of numerical values and a correspond array with \n",
    "# the categories (I think)\n",
    "# df[0] gets the first data frame in a list of dataframes \n",
    "# Without .unstack(), I get repeating elements like this:\n",
    "# 0 species_id    0\n",
    "#   plot_type     1\n",
    "\n",
    "\n",
    "print(surveys_base.head(n=5))\n",
    "print(type(surveys_base[\"species_id\"]))"
   ]
  },
  {
   "cell_type": "code",
   "execution_count": 72,
   "id": "8a78d9f6-3671-4f94-aae7-fa1296172223",
   "metadata": {},
   "outputs": [
    {
     "name": "stdout",
     "output_type": "stream",
     "text": [
      "   species_id  weight  plot_type\n",
      "0           0     NaN          1\n",
      "1           0     NaN          1\n",
      "2           0     NaN          1\n",
      "3           0     NaN          1\n",
      "4           0     NaN          1\n",
      "5           0     NaN          1\n",
      "6           0     NaN          1\n",
      "7           0     NaN          1\n",
      "8           0   218.0          1\n",
      "9           0     NaN          1\n",
      "    species_id  weight  plot_type\n",
      "8            0   218.0          1\n",
      "11           0   204.0          1\n",
      "12           0   200.0          1\n",
      "13           0   199.0          1\n",
      "14           0   197.0          1\n",
      "16           0   218.0          1\n",
      "17           0   166.0          1\n",
      "18           0   184.0          1\n",
      "19           0   206.0          1\n",
      "20           0   274.0          1\n"
     ]
    }
   ],
   "source": [
    "# Remove all rows with NAs in the weight column\n",
    "print(surveys_base.head(n=10))\n",
    "\n",
    "surveys_base = surveys_base.dropna(subset = [\"weight\"])\n",
    "print(surveys_base.head(n=10))"
   ]
  },
  {
   "cell_type": "code",
   "execution_count": 78,
   "id": "724ff7f1-13b0-49ca-b469-73ea3fc2abeb",
   "metadata": {},
   "outputs": [
    {
     "name": "stdout",
     "output_type": "stream",
     "text": [
      "<bound method NDFrame.head of     species_id  weight  plot_type\n",
      "8            0   218.0          1\n",
      "11           0   204.0          1\n",
      "12           0   200.0          1\n",
      "13           0   199.0          1\n",
      "14           0   197.0          1\n",
      "16           0   218.0          1\n",
      "17           0   166.0          1\n",
      "18           0   184.0          1\n",
      "19           0   206.0          1\n",
      "20           0   274.0          1\n",
      "21           0   186.0          1\n",
      "22           0   184.0          1\n",
      "25           0   174.0          1\n",
      "27           0   208.0          1\n",
      "28           0   192.0          1\n",
      "29           0   206.0          1\n",
      "30           0   165.0          1\n",
      "31           0   202.0          1\n",
      "32           0   211.0          1\n",
      "35           0   222.0          1\n",
      "38           0   219.0          1\n",
      "40           0   152.0          1\n",
      "44           0   161.0          1\n",
      "46           0   151.0          1\n",
      "47           0   175.0          1\n",
      "48           0   158.0          1\n",
      "49           0   164.0          1\n",
      "51           0   157.0          1\n",
      "55           0   151.0          1\n",
      "56           0   173.0          1\n",
      "59           0   186.0          1>\n"
     ]
    }
   ],
   "source": [
    "# Create second dataframe only containing individuals with wieghts greater than 150 grams\n",
    "challenge_base = surveys_base[surveys_base[\"weight\"] > 150]\n",
    "print(challenge_base.head)"
   ]
  }
 ],
 "metadata": {
  "kernelspec": {
   "display_name": "Python 3 (ipykernel)",
   "language": "python",
   "name": "python3"
  },
  "language_info": {
   "codemirror_mode": {
    "name": "ipython",
    "version": 3
   },
   "file_extension": ".py",
   "mimetype": "text/x-python",
   "name": "python",
   "nbconvert_exporter": "python",
   "pygments_lexer": "ipython3",
   "version": "3.7.9"
  }
 },
 "nbformat": 4,
 "nbformat_minor": 5
}
