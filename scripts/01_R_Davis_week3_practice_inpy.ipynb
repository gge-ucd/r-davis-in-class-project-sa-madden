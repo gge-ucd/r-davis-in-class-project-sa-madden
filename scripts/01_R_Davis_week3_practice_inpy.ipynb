{
 "cells": [
  {
   "cell_type": "markdown",
   "id": "722ebc5f-8cb1-4874-8a25-96255fb1cb9b",
   "metadata": {},
   "source": [
    "# Week 3 Practice\n",
    "## Sage Madden\n",
    "## Created 10/7/2021"
   ]
  },
  {
   "cell_type": "code",
   "execution_count": 2,
   "id": "161080fe-dbac-4a47-a18a-a327bc2a50b9",
   "metadata": {},
   "outputs": [],
   "source": [
    "# Import numpy for working with arrays\n",
    "import numpy as np\n",
    "\n",
    "# Import pandas for working with dataframes\n",
    "import pandas as pd"
   ]
  },
  {
   "cell_type": "code",
   "execution_count": null,
   "id": "5b14d6f7-5c27-4ed0-93bc-9ca34d90f385",
   "metadata": {},
   "outputs": [],
   "source": [
    "# Find where my file is located\n",
    "pwd"
   ]
  },
  {
   "cell_type": "code",
   "execution_count": 17,
   "id": "05886ed2-60cc-4371-ad95-142c605608bb",
   "metadata": {},
   "outputs": [],
   "source": [
    "# Read in the portal data as surveys\n",
    "surveys = pd.read_csv(\"../data/portal_data_joined.csv\")"
   ]
  },
  {
   "cell_type": "code",
   "execution_count": 18,
   "id": "7d2b3966-f277-4b1b-93ca-fd149c18547c",
   "metadata": {},
   "outputs": [
    {
     "name": "stdout",
     "output_type": "stream",
     "text": [
      "   record_id  month  day  year  plot_id species_id  sex  hindfoot_length  \\\n",
      "0          1      7   16  1977        2         NL    M             32.0   \n",
      "1         72      8   19  1977        2         NL    M             31.0   \n",
      "2        224      9   13  1977        2         NL  NaN              NaN   \n",
      "3        266     10   16  1977        2         NL  NaN              NaN   \n",
      "4        349     11   12  1977        2         NL  NaN              NaN   \n",
      "\n",
      "   weight    genus   species    taxa plot_type  \n",
      "0     NaN  Neotoma  albigula  Rodent   Control  \n",
      "1     NaN  Neotoma  albigula  Rodent   Control  \n",
      "2     NaN  Neotoma  albigula  Rodent   Control  \n",
      "3     NaN  Neotoma  albigula  Rodent   Control  \n",
      "4     NaN  Neotoma  albigula  Rodent   Control  \n",
      "<class 'pandas.core.frame.DataFrame'>\n",
      "record_id            int64\n",
      "month                int64\n",
      "day                  int64\n",
      "year                 int64\n",
      "plot_id              int64\n",
      "species_id          object\n",
      "sex                 object\n",
      "hindfoot_length    float64\n",
      "weight             float64\n",
      "genus               object\n",
      "species             object\n",
      "taxa                object\n",
      "plot_type           object\n",
      "dtype: object\n"
     ]
    }
   ],
   "source": [
    "# View the first few roles\n",
    "print(surveys.head())\n",
    "\n",
    "# View the data type of surveys\n",
    "print(type(surveys))\n",
    "\n",
    "# View data types of different columns\n",
    "print(surveys.dtypes)"
   ]
  },
  {
   "cell_type": "code",
   "execution_count": 29,
   "id": "8b4473ba-d91a-4746-820f-7a276b23f2fd",
   "metadata": {},
   "outputs": [
    {
     "name": "stdout",
     "output_type": "stream",
     "text": [
      "7\n",
      "['albigula' 'merriami' 'flavus' 'eremicus' 'spectabilis' 'penicillatus'\n",
      " 'hispidus' 'torridus' 'ordii' 'sp.' 'spilosoma' 'leucogaster' 'megalotis'\n",
      " 'audubonii' 'maniculatus' 'harrisi' 'bilineata' 'melanocorys' 'squamata'\n",
      " 'fulvescens' 'taylori' 'montanus' 'ochrognathus' 'baileyi'\n",
      " 'brunneicapillus' 'chlorurus' 'fulviventer' 'intermedius' 'leucopus'\n",
      " 'viridis' 'gramineus' 'savannarum' 'leucophrys' 'scutalatus' 'undulatus'\n",
      " 'fuscus' 'tereticaudus' 'tigris' 'clarki' 'uniparens']\n",
      "40\n"
     ]
    }
   ],
   "source": [
    "# Subsetting practice\n",
    "# Row at index 0, column at index 1\n",
    "print(surveys.iloc[0, 1])\n",
    "\n",
    "# Unique observations in species \n",
    "print(pd.unique(surveys['species']))\n",
    "print(pd.unique(surveys['species']).size)"
   ]
  },
  {
   "cell_type": "code",
   "execution_count": 31,
   "id": "703823dd-d8fd-4f35-aa9e-1d1b91ebe17a",
   "metadata": {},
   "outputs": [
    {
     "name": "stdout",
     "output_type": "stream",
     "text": [
      "   record_id  month  day  year  plot_id species_id  sex  hindfoot_length  \\\n",
      "0          1      7   16  1977        2         NL    M             32.0   \n",
      "1         72      8   19  1977        2         NL    M             31.0   \n",
      "2        224      9   13  1977        2         NL  NaN              NaN   \n",
      "3        266     10   16  1977        2         NL  NaN              NaN   \n",
      "4        349     11   12  1977        2         NL  NaN              NaN   \n",
      "\n",
      "   weight    genus   species    taxa plot_type  \n",
      "0     NaN  Neotoma  albigula  Rodent   Control  \n",
      "1     NaN  Neotoma  albigula  Rodent   Control  \n",
      "2     NaN  Neotoma  albigula  Rodent   Control  \n",
      "3     NaN  Neotoma  albigula  Rodent   Control  \n",
      "4     NaN  Neotoma  albigula  Rodent   Control  \n"
     ]
    },
    {
     "data": {
      "text/plain": [
       "0         0\n",
       "1         0\n",
       "2         0\n",
       "3         0\n",
       "4         0\n",
       "         ..\n",
       "34781    18\n",
       "34782    18\n",
       "34783    18\n",
       "34784    29\n",
       "34785    29\n",
       "Length: 34786, dtype: int8"
      ]
     },
     "execution_count": 31,
     "metadata": {},
     "output_type": "execute_result"
    }
   ],
   "source": [
    "# Mapping categorical variables\n",
    "print(surveys.head())\n",
    "surveys.species.astype(\"category\").cat.codes\n"
   ]
  },
  {
   "cell_type": "code",
   "execution_count": 47,
   "id": "70d304a6-4580-4059-add0-abb530bdd102",
   "metadata": {},
   "outputs": [
    {
     "name": "stdout",
     "output_type": "stream",
     "text": [
      "record_id             35212\n",
      "month                    12\n",
      "day                       7\n",
      "year                   2002\n",
      "plot_id                   2\n",
      "species_id               NL\n",
      "sex                       M\n",
      "hindfoot_length          33\n",
      "weight                  248\n",
      "genus               Neotoma\n",
      "species            albigula\n",
      "taxa                 Rodent\n",
      "plot_type           Control\n",
      "Name: 199, dtype: object\n"
     ]
    }
   ],
   "source": [
    "# New df called surveys_200 containing row 200 (AKA 199 if indexing from 0)\n",
    "surveys_200 = surveys.iloc[199, ]\n",
    "print(surveys_200)"
   ]
  },
  {
   "cell_type": "code",
   "execution_count": 48,
   "id": "f49a0964-55b6-42da-ae70-00df848f8018",
   "metadata": {},
   "outputs": [
    {
     "name": "stdout",
     "output_type": "stream",
     "text": [
      "record_id                     30986\n",
      "month                             7\n",
      "day                               1\n",
      "year                           2000\n",
      "plot_id                           7\n",
      "species_id                       PX\n",
      "sex                             NaN\n",
      "hindfoot_length                 NaN\n",
      "weight                          NaN\n",
      "genus                   Chaetodipus\n",
      "species                         sp.\n",
      "taxa                         Rodent\n",
      "plot_type          Rodent Exclosure\n",
      "Name: 34785, dtype: object\n"
     ]
    },
    {
     "data": {
      "text/plain": [
       "<bound method NDFrame.tail of        record_id  month  day  year  plot_id species_id  sex  hindfoot_length  \\\n",
       "0              1      7   16  1977        2         NL    M             32.0   \n",
       "1             72      8   19  1977        2         NL    M             31.0   \n",
       "2            224      9   13  1977        2         NL  NaN              NaN   \n",
       "3            266     10   16  1977        2         NL  NaN              NaN   \n",
       "4            349     11   12  1977        2         NL  NaN              NaN   \n",
       "...          ...    ...  ...   ...      ...        ...  ...              ...   \n",
       "34781      26966     10   25  1997        7         PL    M             20.0   \n",
       "34782      27185     11   22  1997        7         PL    F             21.0   \n",
       "34783      27792      5    2  1998        7         PL    F             20.0   \n",
       "34784      28806     11   21  1998        7         PX  NaN              NaN   \n",
       "34785      30986      7    1  2000        7         PX  NaN              NaN   \n",
       "\n",
       "       weight        genus   species    taxa         plot_type  \n",
       "0         NaN      Neotoma  albigula  Rodent           Control  \n",
       "1         NaN      Neotoma  albigula  Rodent           Control  \n",
       "2         NaN      Neotoma  albigula  Rodent           Control  \n",
       "3         NaN      Neotoma  albigula  Rodent           Control  \n",
       "4         NaN      Neotoma  albigula  Rodent           Control  \n",
       "...       ...          ...       ...     ...               ...  \n",
       "34781    16.0   Peromyscus  leucopus  Rodent  Rodent Exclosure  \n",
       "34782    22.0   Peromyscus  leucopus  Rodent  Rodent Exclosure  \n",
       "34783     8.0   Peromyscus  leucopus  Rodent  Rodent Exclosure  \n",
       "34784     NaN  Chaetodipus       sp.  Rodent  Rodent Exclosure  \n",
       "34785     NaN  Chaetodipus       sp.  Rodent  Rodent Exclosure  \n",
       "\n",
       "[34786 rows x 13 columns]>"
      ]
     },
     "execution_count": 48,
     "metadata": {},
     "output_type": "execute_result"
    }
   ],
   "source": [
    "# New df called surveys last with only the last row of surveys \n",
    "surveys_last = surveys.iloc[-1, ]\n",
    "print(surveys_last)\n",
    "surveys.tail"
   ]
  },
  {
   "cell_type": "code",
   "execution_count": 50,
   "id": "e2b1befb-b37a-4550-9e9d-c39ee372c780",
   "metadata": {},
   "outputs": [
    {
     "name": "stdout",
     "output_type": "stream",
     "text": [
      "34786\n",
      "17392\n",
      "13\n",
      "record_id                9828\n",
      "month                       1\n",
      "day                        19\n",
      "year                     1985\n",
      "plot_id                    14\n",
      "species_id                 AB\n",
      "sex                       NaN\n",
      "hindfoot_length           NaN\n",
      "weight                    NaN\n",
      "genus              Amphispiza\n",
      "species             bilineata\n",
      "taxa                     Bird\n",
      "plot_type             Control\n",
      "Name: 17392, dtype: object\n"
     ]
    }
   ],
   "source": [
    "# Create new df containing the middle row\n",
    "\n",
    "# Number of rows\n",
    "print(surveys.shape[0]) \n",
    "print(int(surveys.shape[0]/2)-1)\n",
    "\n",
    "#Number of columns \n",
    "print(surveys.shape[1])\n",
    "\n",
    "# Subset to get middle row\n",
    "# I need to subtract 1 because the language indexes from 0\n",
    "surveys_middle = surveys.iloc[int(surveys.shape[0]/2)-1, ]\n",
    "print(surveys_middle)"
   ]
  }
 ],
 "metadata": {
  "kernelspec": {
   "display_name": "Python 3 (ipykernel)",
   "language": "python",
   "name": "python3"
  },
  "language_info": {
   "codemirror_mode": {
    "name": "ipython",
    "version": 3
   },
   "file_extension": ".py",
   "mimetype": "text/x-python",
   "name": "python",
   "nbconvert_exporter": "python",
   "pygments_lexer": "ipython3",
   "version": "3.7.9"
  }
 },
 "nbformat": 4,
 "nbformat_minor": 5
}
