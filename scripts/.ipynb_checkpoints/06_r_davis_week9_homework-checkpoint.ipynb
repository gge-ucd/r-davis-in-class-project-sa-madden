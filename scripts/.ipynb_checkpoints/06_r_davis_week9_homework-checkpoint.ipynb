{
 "cells": [
  {
   "cell_type": "markdown",
   "id": "94f8559d-ce15-4842-b7e6-c2a8b9cab758",
   "metadata": {},
   "source": [
    "# Week 9 Homework\n",
    "## Sage Madden\n",
    "## 11/18/2021"
   ]
  },
  {
   "cell_type": "markdown",
   "id": "ce38803f-b141-4fce-a615-0356c0714214",
   "metadata": {},
   "source": [
    "Let’s look at some real data from Mauna Loa to try to format and plot. These meteorological data from Mauna Loa were collected every minute for the year 2001. This dataset has 459,769 observations for 9 different metrics of wind, humidity, barometric pressure, air temperature, and precipitation. Download this dataset here. Save it to your data/ folder. Alternatively, you can read the CSV directly from the R-DAVIS Github: mloa <- read_csv(\"https://raw.githubusercontent.com/gge-ucd/R-DAVIS/master/data/mauna_loa_met_2001_minute.csv\")\n",
    "\n",
    "Use the README file associated with the Mauna Loa dataset to determine in what time zone the data are reported, and how missing values are reported in each column. With the mloa data.frame, remove observations with missing values in rel_humid, temp_C_2m, and windSpeed_m_s. Generate a column called “datetime” using the year, month, day, hour24, and min columns. Next, create a column called “datetimeLocal” that converts the datetime column to Pacific/Honolulu time (HINT: look at the lubridate function called with_tz()). Then, use dplyr to calculate the mean hourly temperature each month using the temp_C_2m column and the datetimeLocal columns. (HINT: Look at the lubridate functions called month() and hour()). Finally, make a ggplot scatterplot of the mean monthly temperature, with points colored by local hour."
   ]
  },
  {
   "cell_type": "code",
   "execution_count": 1,
   "id": "d4a5721e-640d-4f8e-be57-74348ea10c66",
   "metadata": {},
   "outputs": [],
   "source": [
    "# Import libraries\n",
    "import pandas as pd\n",
    "from dplython import (DplyFrame, X, diamonds, select, sift,\n",
    "  sample_n, sample_frac, head, arrange, mutate, group_by,\n",
    "  summarize, DelayFunction)\n",
    "import numpy as np\n",
    "import plotnine as p9\n",
    "from plotnine import ggplot, geom_point, aes, stat_smooth, facet_wrap\n",
    "import datetime\n",
    "import pytz"
   ]
  },
  {
   "cell_type": "code",
   "execution_count": 2,
   "id": "881db829-73b3-4650-8167-82306a0879a0",
   "metadata": {},
   "outputs": [
    {
     "name": "stdout",
     "output_type": "stream",
     "text": [
      "<bound method NDFrame.head of                                         filename siteID  year  month  day  \\\n",
      "0       met_mlo_insitu_1_obop_minute_2001_01.txt    MLO  2001      1    1   \n",
      "1       met_mlo_insitu_1_obop_minute_2001_01.txt    MLO  2001      1    1   \n",
      "2       met_mlo_insitu_1_obop_minute_2001_01.txt    MLO  2001      1    1   \n",
      "3       met_mlo_insitu_1_obop_minute_2001_01.txt    MLO  2001      1    1   \n",
      "4       met_mlo_insitu_1_obop_minute_2001_01.txt    MLO  2001      1    1   \n",
      "...                                          ...    ...   ...    ...  ...   \n",
      "459764  met_mlo_insitu_1_obop_minute_2001_12.txt    MLO  2001     12   31   \n",
      "459765  met_mlo_insitu_1_obop_minute_2001_12.txt    MLO  2001     12   31   \n",
      "459766  met_mlo_insitu_1_obop_minute_2001_12.txt    MLO  2001     12   31   \n",
      "459767  met_mlo_insitu_1_obop_minute_2001_12.txt    MLO  2001     12   31   \n",
      "459768  met_mlo_insitu_1_obop_minute_2001_12.txt    MLO  2001     12   31   \n",
      "\n",
      "        hour24  min  windDir  windSpeed_m_s  windSteady  baro_hPa  temp_C_2m  \\\n",
      "0            0    0      340            3.4          -9    -999.9       12.7   \n",
      "1            0    1      334            2.8          -9    -999.9       12.5   \n",
      "2            0    2      314            3.3          -9    -999.9       12.5   \n",
      "3            0    3      323            2.4          -9    -999.9       11.6   \n",
      "4            0    4      349            0.4          -9    -999.9       11.2   \n",
      "...        ...  ...      ...            ...         ...       ...        ...   \n",
      "459764      23   55      258            8.1          -9    -999.9       13.1   \n",
      "459765      23   56      286            7.5          -9    -999.9       13.1   \n",
      "459766      23   57      275            7.0          -9    -999.9       12.9   \n",
      "459767      23   58      274            8.6          -9    -999.9       13.0   \n",
      "459768      23   59      273            7.1          -9    -999.9       12.9   \n",
      "\n",
      "        temp_C_10m  temp_C_towertop  rel_humid  precip_intens_mm_hr  \n",
      "0             11.2             10.2         53                    0  \n",
      "1             11.2             10.5         54                    0  \n",
      "2             11.2             10.5         54                    0  \n",
      "3             10.6             10.3         57                    0  \n",
      "4             10.8             10.4         57                    0  \n",
      "...            ...              ...        ...                  ...  \n",
      "459764        11.4             10.5        -99                    0  \n",
      "459765        11.4             10.5         19                    0  \n",
      "459766        11.0             10.2         14                    0  \n",
      "459767        10.8             10.2         14                    0  \n",
      "459768        10.9             10.2         12                    0  \n",
      "\n",
      "[459769 rows x 16 columns]>\n"
     ]
    }
   ],
   "source": [
    "# Read in data\n",
    "mloa = DplyFrame(pd.read_csv(\"https://raw.githubusercontent.com/gge-ucd/R-DAVIS/master/data/mauna_loa_met_2001_minute.csv\"))\n",
    "print(mloa.head)"
   ]
  },
  {
   "cell_type": "markdown",
   "id": "fc0adfdb-2049-483f-ba7e-fcdd2f69ce6a",
   "metadata": {},
   "source": [
    "With the mloa data.frame, remove observations with missing values in rel_humid, temp_C_2m, and windSpeed_m_s."
   ]
  },
  {
   "cell_type": "code",
   "execution_count": 3,
   "id": "a4999e4b-d09c-44cb-bb49-a80ecc669db4",
   "metadata": {},
   "outputs": [
    {
     "name": "stdout",
     "output_type": "stream",
     "text": [
      "<bound method NDFrame.head of                                         filename siteID  year  month  day  \\\n",
      "0       met_mlo_insitu_1_obop_minute_2001_01.txt    MLO  2001      1    1   \n",
      "1       met_mlo_insitu_1_obop_minute_2001_01.txt    MLO  2001      1    1   \n",
      "2       met_mlo_insitu_1_obop_minute_2001_01.txt    MLO  2001      1    1   \n",
      "3       met_mlo_insitu_1_obop_minute_2001_01.txt    MLO  2001      1    1   \n",
      "4       met_mlo_insitu_1_obop_minute_2001_01.txt    MLO  2001      1    1   \n",
      "...                                          ...    ...   ...    ...  ...   \n",
      "459763  met_mlo_insitu_1_obop_minute_2001_12.txt    MLO  2001     12   31   \n",
      "459765  met_mlo_insitu_1_obop_minute_2001_12.txt    MLO  2001     12   31   \n",
      "459766  met_mlo_insitu_1_obop_minute_2001_12.txt    MLO  2001     12   31   \n",
      "459767  met_mlo_insitu_1_obop_minute_2001_12.txt    MLO  2001     12   31   \n",
      "459768  met_mlo_insitu_1_obop_minute_2001_12.txt    MLO  2001     12   31   \n",
      "\n",
      "        hour24  min  windDir  windSpeed_m_s  windSteady  baro_hPa  temp_C_2m  \\\n",
      "0            0    0      340            3.4          -9    -999.9       12.7   \n",
      "1            0    1      334            2.8          -9    -999.9       12.5   \n",
      "2            0    2      314            3.3          -9    -999.9       12.5   \n",
      "3            0    3      323            2.4          -9    -999.9       11.6   \n",
      "4            0    4      349            0.4          -9    -999.9       11.2   \n",
      "...        ...  ...      ...            ...         ...       ...        ...   \n",
      "459763      23   54      271            7.0          -9    -999.9       13.0   \n",
      "459765      23   56      286            7.5          -9    -999.9       13.1   \n",
      "459766      23   57      275            7.0          -9    -999.9       12.9   \n",
      "459767      23   58      274            8.6          -9    -999.9       13.0   \n",
      "459768      23   59      273            7.1          -9    -999.9       12.9   \n",
      "\n",
      "        temp_C_10m  temp_C_towertop  rel_humid  precip_intens_mm_hr  \n",
      "0             11.2             10.2         53                    0  \n",
      "1             11.2             10.5         54                    0  \n",
      "2             11.2             10.5         54                    0  \n",
      "3             10.6             10.3         57                    0  \n",
      "4             10.8             10.4         57                    0  \n",
      "...            ...              ...        ...                  ...  \n",
      "459763        11.2             10.2         19                    0  \n",
      "459765        11.4             10.5         19                    0  \n",
      "459766        11.0             10.2         14                    0  \n",
      "459767        10.8             10.2         14                    0  \n",
      "459768        10.9             10.2         12                    0  \n",
      "\n",
      "[426437 rows x 16 columns]>\n"
     ]
    }
   ],
   "source": [
    "# Remove missing values for rel_humid, temp_C_2m, and windSpeed_m_s.\n",
    "mloa_filter = mloa >> sift((X.rel_humid != -99) & (X.temp_C_2m != -999.9) & (X.windSpeed_m_s != -99.9))\n",
    "print(mloa_filter.head)"
   ]
  },
  {
   "cell_type": "markdown",
   "id": "e9f5c3e8-d323-4002-b71c-1ad5075f420c",
   "metadata": {},
   "source": [
    "Generate a column called “datetime” using the year, month, day, hour24, and min columns. "
   ]
  },
  {
   "cell_type": "code",
   "execution_count": 5,
   "id": "d12c0296-d514-4b7f-9ba7-e048c406e719",
   "metadata": {},
   "outputs": [
    {
     "name": "stdout",
     "output_type": "stream",
     "text": [
      "<bound method NDFrame.head of 0             2001-1-1-0-0\n",
      "1             2001-1-1-0-1\n",
      "2             2001-1-1-0-2\n",
      "3             2001-1-1-0-3\n",
      "4             2001-1-1-0-4\n",
      "                ...       \n",
      "459763    2001-12-31-23-54\n",
      "459765    2001-12-31-23-56\n",
      "459766    2001-12-31-23-57\n",
      "459767    2001-12-31-23-58\n",
      "459768    2001-12-31-23-59\n",
      "Name: combined, Length: 426437, dtype: object>\n"
     ]
    }
   ],
   "source": [
    "# Here is the datatime column as a string \n",
    "cols = [\"year\", \"month\", \"day\", \"hour24\", \"min\"]\n",
    "mloa_filter[\"combined\"] = mloa_filter[cols].apply(lambda row: '-'.join(row.values.astype(str)), axis=1)\n",
    "\n",
    "print(mloa_filter[\"combined\"].head)"
   ]
  },
  {
   "cell_type": "code",
   "execution_count": 6,
   "id": "e90e259e-0dca-49a4-ac4f-ffcf79736cea",
   "metadata": {},
   "outputs": [
    {
     "name": "stderr",
     "output_type": "stream",
     "text": [
      "c:\\users\\sagem\\appdata\\local\\programs\\python\\python37\\lib\\site-packages\\pandas\\core\\indexing.py:670: SettingWithCopyWarning: \n",
      "A value is trying to be set on a copy of a slice from a DataFrame\n",
      "\n",
      "See the caveats in the documentation: https://pandas.pydata.org/pandas-docs/stable/user_guide/indexing.html#returning-a-view-versus-a-copy\n"
     ]
    },
    {
     "name": "stdout",
     "output_type": "stream",
     "text": [
      "<bound method NDFrame.head of                                         filename siteID  year  month  day  \\\n",
      "0       met_mlo_insitu_1_obop_minute_2001_01.txt    MLO  2001      1    1   \n",
      "1       met_mlo_insitu_1_obop_minute_2001_01.txt    MLO  2001      1    1   \n",
      "2       met_mlo_insitu_1_obop_minute_2001_01.txt    MLO  2001      1    1   \n",
      "3       met_mlo_insitu_1_obop_minute_2001_01.txt    MLO  2001      1    1   \n",
      "4       met_mlo_insitu_1_obop_minute_2001_01.txt    MLO  2001      1    1   \n",
      "...                                          ...    ...   ...    ...  ...   \n",
      "459763  met_mlo_insitu_1_obop_minute_2001_12.txt    MLO  2001     12   31   \n",
      "459765  met_mlo_insitu_1_obop_minute_2001_12.txt    MLO  2001     12   31   \n",
      "459766  met_mlo_insitu_1_obop_minute_2001_12.txt    MLO  2001     12   31   \n",
      "459767  met_mlo_insitu_1_obop_minute_2001_12.txt    MLO  2001     12   31   \n",
      "459768  met_mlo_insitu_1_obop_minute_2001_12.txt    MLO  2001     12   31   \n",
      "\n",
      "        hour24  min  windDir  windSpeed_m_s  windSteady  baro_hPa  temp_C_2m  \\\n",
      "0            0    0      340            3.4          -9    -999.9       12.7   \n",
      "1            0    1      334            2.8          -9    -999.9       12.5   \n",
      "2            0    2      314            3.3          -9    -999.9       12.5   \n",
      "3            0    3      323            2.4          -9    -999.9       11.6   \n",
      "4            0    4      349            0.4          -9    -999.9       11.2   \n",
      "...        ...  ...      ...            ...         ...       ...        ...   \n",
      "459763      23   54      271            7.0          -9    -999.9       13.0   \n",
      "459765      23   56      286            7.5          -9    -999.9       13.1   \n",
      "459766      23   57      275            7.0          -9    -999.9       12.9   \n",
      "459767      23   58      274            8.6          -9    -999.9       13.0   \n",
      "459768      23   59      273            7.1          -9    -999.9       12.9   \n",
      "\n",
      "        temp_C_10m  temp_C_towertop  rel_humid  precip_intens_mm_hr  \\\n",
      "0             11.2             10.2         53                    0   \n",
      "1             11.2             10.5         54                    0   \n",
      "2             11.2             10.5         54                    0   \n",
      "3             10.6             10.3         57                    0   \n",
      "4             10.8             10.4         57                    0   \n",
      "...            ...              ...        ...                  ...   \n",
      "459763        11.2             10.2         19                    0   \n",
      "459765        11.4             10.5         19                    0   \n",
      "459766        11.0             10.2         14                    0   \n",
      "459767        10.8             10.2         14                    0   \n",
      "459768        10.9             10.2         12                    0   \n",
      "\n",
      "                         datetime          combined  \n",
      "0       2001-01-01 00:00:00+00:00      2001-1-1-0-0  \n",
      "1       2001-01-01 00:01:00+00:00      2001-1-1-0-1  \n",
      "2       2001-01-01 00:02:00+00:00      2001-1-1-0-2  \n",
      "3       2001-01-01 00:03:00+00:00      2001-1-1-0-3  \n",
      "4       2001-01-01 00:04:00+00:00      2001-1-1-0-4  \n",
      "...                           ...               ...  \n",
      "459763  2001-12-31 23:54:00+00:00  2001-12-31-23-54  \n",
      "459765  2001-12-31 23:56:00+00:00  2001-12-31-23-56  \n",
      "459766  2001-12-31 23:57:00+00:00  2001-12-31-23-57  \n",
      "459767  2001-12-31 23:58:00+00:00  2001-12-31-23-58  \n",
      "459768  2001-12-31 23:59:00+00:00  2001-12-31-23-59  \n",
      "\n",
      "[426437 rows x 18 columns]>\n"
     ]
    }
   ],
   "source": [
    "# Now I need to get it in a date format so that I can do a timezone conversion\n",
    "# DataFrame.apply(func, axis=0, raw=False, result_type=None, args=(), **kwargs)\n",
    "mloa_filter[\"datetime\"] = \"\"\n",
    "\n",
    "timezone = pytz.timezone(\"UTC\")\n",
    "\n",
    "for i in range(len(mloa_filter)):\n",
    "    mloa_filter[\"datetime\"].iloc[i] = datetime.datetime.strptime(mloa_filter[\"combined\"].iloc[i], \"%Y-%m-%d-%H-%M\")\n",
    "    mloa_filter[\"datetime\"].iloc[i] = timezone.localize(mloa_filter[\"datetime\"].iloc[i])\n",
    "\n",
    "print(mloa_filter.head)\n",
    "\n",
    "# This for loop takes FOREVER to run...why? Is it just because the dataset is large? Is there a more efficient way to do this?\n",
    "# I can't use mutate and such because my columns are series and it throws errors"
   ]
  },
  {
   "cell_type": "markdown",
   "id": "a66fc9f7-cb5f-4987-ac5e-aa7a824e6d72",
   "metadata": {},
   "source": [
    "Next, create a column called “datetimeLocal” that converts the datetime column to Pacific/Honolulu time (HINT: look at the lubridate function called with_tz())"
   ]
  },
  {
   "cell_type": "code",
   "execution_count": 11,
   "id": "23b60792-f67f-4ebd-8ad7-6d47346c0535",
   "metadata": {},
   "outputs": [
    {
     "name": "stderr",
     "output_type": "stream",
     "text": [
      "c:\\users\\sagem\\appdata\\local\\programs\\python\\python37\\lib\\site-packages\\pandas\\core\\indexing.py:670: SettingWithCopyWarning: \n",
      "A value is trying to be set on a copy of a slice from a DataFrame\n",
      "\n",
      "See the caveats in the documentation: https://pandas.pydata.org/pandas-docs/stable/user_guide/indexing.html#returning-a-view-versus-a-copy\n"
     ]
    },
    {
     "name": "stdout",
     "output_type": "stream",
     "text": [
      "<bound method NDFrame.head of                                         filename siteID  year  month  day  \\\n",
      "0       met_mlo_insitu_1_obop_minute_2001_01.txt    MLO  2001      1    1   \n",
      "1       met_mlo_insitu_1_obop_minute_2001_01.txt    MLO  2001      1    1   \n",
      "2       met_mlo_insitu_1_obop_minute_2001_01.txt    MLO  2001      1    1   \n",
      "3       met_mlo_insitu_1_obop_minute_2001_01.txt    MLO  2001      1    1   \n",
      "4       met_mlo_insitu_1_obop_minute_2001_01.txt    MLO  2001      1    1   \n",
      "...                                          ...    ...   ...    ...  ...   \n",
      "459763  met_mlo_insitu_1_obop_minute_2001_12.txt    MLO  2001     12   31   \n",
      "459765  met_mlo_insitu_1_obop_minute_2001_12.txt    MLO  2001     12   31   \n",
      "459766  met_mlo_insitu_1_obop_minute_2001_12.txt    MLO  2001     12   31   \n",
      "459767  met_mlo_insitu_1_obop_minute_2001_12.txt    MLO  2001     12   31   \n",
      "459768  met_mlo_insitu_1_obop_minute_2001_12.txt    MLO  2001     12   31   \n",
      "\n",
      "        hour24  min  windDir  windSpeed_m_s  windSteady  baro_hPa  temp_C_2m  \\\n",
      "0            0    0      340            3.4          -9    -999.9       12.7   \n",
      "1            0    1      334            2.8          -9    -999.9       12.5   \n",
      "2            0    2      314            3.3          -9    -999.9       12.5   \n",
      "3            0    3      323            2.4          -9    -999.9       11.6   \n",
      "4            0    4      349            0.4          -9    -999.9       11.2   \n",
      "...        ...  ...      ...            ...         ...       ...        ...   \n",
      "459763      23   54      271            7.0          -9    -999.9       13.0   \n",
      "459765      23   56      286            7.5          -9    -999.9       13.1   \n",
      "459766      23   57      275            7.0          -9    -999.9       12.9   \n",
      "459767      23   58      274            8.6          -9    -999.9       13.0   \n",
      "459768      23   59      273            7.1          -9    -999.9       12.9   \n",
      "\n",
      "        temp_C_10m  temp_C_towertop  rel_humid  precip_intens_mm_hr  \\\n",
      "0             11.2             10.2         53                    0   \n",
      "1             11.2             10.5         54                    0   \n",
      "2             11.2             10.5         54                    0   \n",
      "3             10.6             10.3         57                    0   \n",
      "4             10.8             10.4         57                    0   \n",
      "...            ...              ...        ...                  ...   \n",
      "459763        11.2             10.2         19                    0   \n",
      "459765        11.4             10.5         19                    0   \n",
      "459766        11.0             10.2         14                    0   \n",
      "459767        10.8             10.2         14                    0   \n",
      "459768        10.9             10.2         12                    0   \n",
      "\n",
      "                combined                   datetime              datetimeLocal  \n",
      "0           2001-1-1-0-0  2001-01-01 00:00:00+00:00  2000-12-31 14:00:00-10:00  \n",
      "1           2001-1-1-0-1  2001-01-01 00:01:00+00:00  2000-12-31 14:01:00-10:00  \n",
      "2           2001-1-1-0-2  2001-01-01 00:02:00+00:00  2000-12-31 14:02:00-10:00  \n",
      "3           2001-1-1-0-3  2001-01-01 00:03:00+00:00  2000-12-31 14:03:00-10:00  \n",
      "4           2001-1-1-0-4  2001-01-01 00:04:00+00:00  2000-12-31 14:04:00-10:00  \n",
      "...                  ...                        ...                        ...  \n",
      "459763  2001-12-31-23-54  2001-12-31 23:54:00+00:00  2001-12-31 13:54:00-10:00  \n",
      "459765  2001-12-31-23-56  2001-12-31 23:56:00+00:00  2001-12-31 13:56:00-10:00  \n",
      "459766  2001-12-31-23-57  2001-12-31 23:57:00+00:00  2001-12-31 13:57:00-10:00  \n",
      "459767  2001-12-31-23-58  2001-12-31 23:58:00+00:00  2001-12-31 13:58:00-10:00  \n",
      "459768  2001-12-31-23-59  2001-12-31 23:59:00+00:00  2001-12-31 13:59:00-10:00  \n",
      "\n",
      "[426437 rows x 19 columns]>\n"
     ]
    }
   ],
   "source": [
    "pachon_tzinfo = pytz.timezone(\"Pacific/Honolulu\")\n",
    "\n",
    "mloa_filter[\"datetimeLocal\"] = \"\"\n",
    "\n",
    "for i in range(len(mloa_filter)):\n",
    "    mloa_filter[\"datetimeLocal\"].iloc[i] = mloa_filter[\"datetime\"].iloc[i].astimezone(pachon_tzinfo)\n",
    "    \n",
    "print(mloa_filter.head)"
   ]
  },
  {
   "cell_type": "markdown",
   "id": "4092c93b-8c32-47f2-bad3-c44c6f7ef5e6",
   "metadata": {},
   "source": [
    "Then, use dplyr to calculate the mean hourly temperature each month using the temp_C_2m column and the datetimeLocal columns. (HINT: Look at the lubridate functions called month() and hour())."
   ]
  },
  {
   "cell_type": "code",
   "execution_count": 20,
   "id": "56397ceb-c103-44d5-9c98-34a84b3f2751",
   "metadata": {},
   "outputs": [
    {
     "name": "stderr",
     "output_type": "stream",
     "text": [
      "c:\\users\\sagem\\appdata\\local\\programs\\python\\python37\\lib\\site-packages\\pandas\\core\\indexing.py:670: SettingWithCopyWarning: \n",
      "A value is trying to be set on a copy of a slice from a DataFrame\n",
      "\n",
      "See the caveats in the documentation: https://pandas.pydata.org/pandas-docs/stable/user_guide/indexing.html#returning-a-view-versus-a-copy\n"
     ]
    },
    {
     "name": "stdout",
     "output_type": "stream",
     "text": [
      "<bound method NDFrame.head of                                         filename siteID  year month  day  \\\n",
      "0       met_mlo_insitu_1_obop_minute_2001_01.txt    MLO  2001    12    1   \n",
      "1       met_mlo_insitu_1_obop_minute_2001_01.txt    MLO  2001    12    1   \n",
      "2       met_mlo_insitu_1_obop_minute_2001_01.txt    MLO  2001    12    1   \n",
      "3       met_mlo_insitu_1_obop_minute_2001_01.txt    MLO  2001    12    1   \n",
      "4       met_mlo_insitu_1_obop_minute_2001_01.txt    MLO  2001    12    1   \n",
      "...                                          ...    ...   ...   ...  ...   \n",
      "459763  met_mlo_insitu_1_obop_minute_2001_12.txt    MLO  2001    12   31   \n",
      "459765  met_mlo_insitu_1_obop_minute_2001_12.txt    MLO  2001    12   31   \n",
      "459766  met_mlo_insitu_1_obop_minute_2001_12.txt    MLO  2001    12   31   \n",
      "459767  met_mlo_insitu_1_obop_minute_2001_12.txt    MLO  2001    12   31   \n",
      "459768  met_mlo_insitu_1_obop_minute_2001_12.txt    MLO  2001    12   31   \n",
      "\n",
      "        hour24  min  windDir  windSpeed_m_s  windSteady  ...  temp_C_10m  \\\n",
      "0            0    0      340            3.4          -9  ...        11.2   \n",
      "1            0    1      334            2.8          -9  ...        11.2   \n",
      "2            0    2      314            3.3          -9  ...        11.2   \n",
      "3            0    3      323            2.4          -9  ...        10.6   \n",
      "4            0    4      349            0.4          -9  ...        10.8   \n",
      "...        ...  ...      ...            ...         ...  ...         ...   \n",
      "459763      23   54      271            7.0          -9  ...        11.2   \n",
      "459765      23   56      286            7.5          -9  ...        11.4   \n",
      "459766      23   57      275            7.0          -9  ...        11.0   \n",
      "459767      23   58      274            8.6          -9  ...        10.8   \n",
      "459768      23   59      273            7.1          -9  ...        10.9   \n",
      "\n",
      "        temp_C_towertop  rel_humid  precip_intens_mm_hr          combined  \\\n",
      "0                  10.2         53                    0      2001-1-1-0-0   \n",
      "1                  10.5         54                    0      2001-1-1-0-1   \n",
      "2                  10.5         54                    0      2001-1-1-0-2   \n",
      "3                  10.3         57                    0      2001-1-1-0-3   \n",
      "4                  10.4         57                    0      2001-1-1-0-4   \n",
      "...                 ...        ...                  ...               ...   \n",
      "459763             10.2         19                    0  2001-12-31-23-54   \n",
      "459765             10.5         19                    0  2001-12-31-23-56   \n",
      "459766             10.2         14                    0  2001-12-31-23-57   \n",
      "459767             10.2         14                    0  2001-12-31-23-58   \n",
      "459768             10.2         12                    0  2001-12-31-23-59   \n",
      "\n",
      "                         datetime              datetimeLocal hour month_local  \\\n",
      "0       2001-01-01 00:00:00+00:00  2000-12-31 14:00:00-10:00   14          12   \n",
      "1       2001-01-01 00:01:00+00:00  2000-12-31 14:01:00-10:00   14          12   \n",
      "2       2001-01-01 00:02:00+00:00  2000-12-31 14:02:00-10:00   14          12   \n",
      "3       2001-01-01 00:03:00+00:00  2000-12-31 14:03:00-10:00   14          12   \n",
      "4       2001-01-01 00:04:00+00:00  2000-12-31 14:04:00-10:00   14          12   \n",
      "...                           ...                        ...  ...         ...   \n",
      "459763  2001-12-31 23:54:00+00:00  2001-12-31 13:54:00-10:00   13          12   \n",
      "459765  2001-12-31 23:56:00+00:00  2001-12-31 13:56:00-10:00   13          12   \n",
      "459766  2001-12-31 23:57:00+00:00  2001-12-31 13:57:00-10:00   13          12   \n",
      "459767  2001-12-31 23:58:00+00:00  2001-12-31 13:58:00-10:00   13          12   \n",
      "459768  2001-12-31 23:59:00+00:00  2001-12-31 13:59:00-10:00   13          12   \n",
      "\n",
      "       hour_local  \n",
      "0              14  \n",
      "1              14  \n",
      "2              14  \n",
      "3              14  \n",
      "4              14  \n",
      "...           ...  \n",
      "459763         13  \n",
      "459765         13  \n",
      "459766         13  \n",
      "459767         13  \n",
      "459768         13  \n",
      "\n",
      "[426437 rows x 22 columns]>\n"
     ]
    }
   ],
   "source": [
    "# Create columns with month and hour\n",
    "mloa_filter[\"month_local\"] = \"\"\n",
    "mloa_filter[\"hour_local\"] = \"\"\n",
    "\n",
    "\n",
    "for i in range(len(mloa_filter)):\n",
    "    mloa_filter[\"month_local\"].iloc[i] = mloa_filter[\"datetimeLocal\"].iloc[i].month\n",
    "    mloa_filter[\"hour_local\"].iloc[i] = mloa_filter[\"datetimeLocal\"].iloc[i].hour\n",
    "\n",
    "\n",
    "print(mloa_filter.head)\n",
    "# mloa_summ = mloa_filter >> group_by(X.datetimeLocal.month, X.datetimeLocal.hour) >> summarize(mean_hourly_temp = mean(X.temp_C_2m))\n",
    "# The above commented out code doesn't work because datetimeLocal is a series and I need to reference individual values within \n",
    "# it for .month to work, I think\n"
   ]
  },
  {
   "cell_type": "code",
   "execution_count": 21,
   "id": "27640827-0c89-409e-a43e-a3b6dd01a850",
   "metadata": {},
   "outputs": [
    {
     "name": "stdout",
     "output_type": "stream",
     "text": [
      "<bound method NDFrame.head of      month  hour  mean_hourly_temp\n",
      "0        1     0          3.981104\n",
      "1        1     1          3.853628\n",
      "2        1     2          3.378018\n",
      "3        1     3          3.267188\n",
      "4        1     4          3.243398\n",
      "..     ...   ...               ...\n",
      "283     12    19          5.887320\n",
      "284     12    20          5.674758\n",
      "285     12    21          5.500262\n",
      "286     12    22          5.403400\n",
      "287     12    23          5.322849\n",
      "\n",
      "[288 rows x 3 columns]>\n"
     ]
    }
   ],
   "source": [
    "# Use dplyr to get mean temps\n",
    "mloa_summ = mloa_filter >> group_by(X.month, X.hour) >> summarize(mean_hourly_temp = X.temp_C_2m.mean())\n",
    "\n",
    "print(mloa_summ.head)\n"
   ]
  },
  {
   "cell_type": "markdown",
   "id": "a7655e7a-2964-4de1-9c8a-e21d9694d811",
   "metadata": {},
   "source": [
    " Finally, make a ggplot scatterplot of the mean monthly temperature, with points colored by local hour."
   ]
  },
  {
   "cell_type": "code",
   "execution_count": 41,
   "id": "b63f4f56-0446-41c9-8c41-d8738546e5da",
   "metadata": {},
   "outputs": [
    {
     "data": {
      "image/png": "[encoded data removed]",
      "text/plain": [
       "<Figure size 640x480 with 1 Axes>"
      ]
     },
     "metadata": {},
     "output_type": "display_data"
    },
    {
     "data": {
      "text/plain": [
       "<ggplot: (-9223371886244562928)>"
      ]
     },
     "execution_count": 41,
     "metadata": {},
     "output_type": "execute_result"
    }
   ],
   "source": [
    "(p9.ggplot(data = mloa_summ,\n",
    "           mapping = p9.aes(y = \"mean_hourly_temp\", x = \"month\", color = \"hour\")) \n",
    " + p9.geom_point() \n",
    " + p9.labs(x = \"Month\", y = \"Mean hourly temperature\", color = \"Local hour\") \n",
    " + p9.theme_classic()\n",
    " + p9.scale_x_continuous(breaks = range(1, 13, 1))\n",
    ")"
   ]
  }
 ],
 "metadata": {
  "kernelspec": {
   "display_name": "Python 3 (ipykernel)",
   "language": "python",
   "name": "python3"
  },
  "language_info": {
   "codemirror_mode": {
    "name": "ipython",
    "version": 3
   },
   "file_extension": ".py",
   "mimetype": "text/x-python",
   "name": "python",
   "nbconvert_exporter": "python",
   "pygments_lexer": "ipython3",
   "version": "3.7.9"
  }
 },
 "nbformat": 4,
 "nbformat_minor": 5
}
