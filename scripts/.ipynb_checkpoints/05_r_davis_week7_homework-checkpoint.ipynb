{
 "cells": [
  {
   "cell_type": "markdown",
   "id": "ecc7f9c2-5cd0-421b-ac9f-8c897785cf38",
   "metadata": {},
   "source": [
    "# Week 7 Homework\n",
    "## Sage Madden\n",
    "## 11/4/2021"
   ]
  },
  {
   "cell_type": "markdown",
   "id": "9ce83672-a8df-44b6-965b-7f80d9926a01",
   "metadata": {},
   "source": [
    "We’ll touch on some intermediate steps here, since it might take quite a few steps to get from start to finish. Here are some things to note:\n",
    "\n",
    "To get the population difference between 2002 and 2007 for each country, it would probably be easiest to have a country in each row and a column for 2002 population and a column for 2007 population.\n",
    "\n",
    "Notice the order of countries within each facet. You’ll have to look up how to order them in this way.\n",
    "\n",
    "Also look at how the axes are different for each facet. Try looking through ?facet_wrap to see if you can figure this one out.\n",
    "\n",
    "The color scale is different from the default- feel free to try out other color scales, just don’t use the defaults!\n",
    "\n",
    "The theme here is different from the default in a few ways, again, feel free to play around with other non-default themes.\n",
    "\n",
    "The axis labels are rotated! Here’s a hint: angle = 45, hjust = 1. It’s up to you (and Google) to figure out where this code goes!\n",
    "\n",
    "Is there a legend on this plot?"
   ]
  },
  {
   "cell_type": "code",
   "execution_count": 1,
   "id": "47d354b6-ad04-470d-94a4-567a8bf05807",
   "metadata": {},
   "outputs": [],
   "source": [
    "# Import libraries\n",
    "import pandas as pd\n",
    "from dplython import (DplyFrame, X, diamonds, select, sift,\n",
    "  sample_n, sample_frac, head, arrange, mutate, group_by,\n",
    "  summarize, DelayFunction)\n",
    "import plotnine as p9\n",
    "from plotnine import ggplot, geom_point, aes, stat_smooth, facet_wrap\n",
    "from mizani.formatters import scientific_format"
   ]
  },
  {
   "cell_type": "code",
   "execution_count": 2,
   "id": "3bcf4f59-454e-4247-9a6a-aa8ae7db7acc",
   "metadata": {},
   "outputs": [
    {
     "name": "stdout",
     "output_type": "stream",
     "text": [
      "<bound method NDFrame.head of           country  year         pop continent  lifeExp   gdpPercap\n",
      "0     Afghanistan  1952   8425333.0      Asia   28.801  779.445314\n",
      "1     Afghanistan  1957   9240934.0      Asia   30.332  820.853030\n",
      "2     Afghanistan  1962  10267083.0      Asia   31.997  853.100710\n",
      "3     Afghanistan  1967  11537966.0      Asia   34.020  836.197138\n",
      "4     Afghanistan  1972  13079460.0      Asia   36.088  739.981106\n",
      "...           ...   ...         ...       ...      ...         ...\n",
      "1699     Zimbabwe  1987   9216418.0    Africa   62.351  706.157306\n",
      "1700     Zimbabwe  1992  10704340.0    Africa   60.377  693.420786\n",
      "1701     Zimbabwe  1997  11404948.0    Africa   46.809  792.449960\n",
      "1702     Zimbabwe  2002  11926563.0    Africa   39.989  672.038623\n",
      "1703     Zimbabwe  2007  12311143.0    Africa   43.487  469.709298\n",
      "\n",
      "[1704 rows x 6 columns]>\n",
      "Index(['country', 'year', 'pop', 'continent', 'lifeExp', 'gdpPercap'], dtype='object')\n"
     ]
    }
   ],
   "source": [
    "# Read in data\n",
    "gapminder = DplyFrame(pd.read_csv(\"https://gge-ucd.github.io/R-DAVIS/data/gapminder.csv\"))\n",
    "\n",
    "# View the first few rows\n",
    "print(gapminder.head)\n",
    "\n",
    "# View the column names\n",
    "print(gapminder.columns)"
   ]
  },
  {
   "cell_type": "code",
   "execution_count": 3,
   "id": "9b8ca418-59c3-4bbb-8c6d-310edabe69e0",
   "metadata": {},
   "outputs": [
    {
     "name": "stdout",
     "output_type": "stream",
     "text": [
      "<bound method NDFrame.head of           country  year         pop continent  lifeExp    gdpPercap\n",
      "10    Afghanistan  2002  25268405.0      Asia   42.129   726.734055\n",
      "11    Afghanistan  2007  31889923.0      Asia   43.828   974.580338\n",
      "22        Albania  2002   3508512.0    Europe   75.651  4604.211737\n",
      "23        Albania  2007   3600523.0    Europe   76.423  5937.029526\n",
      "34        Algeria  2002  31287142.0    Africa   70.994  5288.040382\n",
      "...           ...   ...         ...       ...      ...          ...\n",
      "1679   Yemen Rep.  2007  22211743.0      Asia   62.698  2280.769906\n",
      "1690       Zambia  2002  10595811.0    Africa   39.193  1071.613938\n",
      "1691       Zambia  2007  11746035.0    Africa   42.384  1271.211593\n",
      "1702     Zimbabwe  2002  11926563.0    Africa   39.989   672.038623\n",
      "1703     Zimbabwe  2007  12311143.0    Africa   43.487   469.709298\n",
      "\n",
      "[280 rows x 6 columns]>\n",
      "<bound method NDFrame.head of                  country  year         pop continent  lifeExp    gdpPercap  \\\n",
      "10           Afghanistan  2002  25268405.0      Asia   42.129   726.734055   \n",
      "22               Albania  2002   3508512.0    Europe   75.651  4604.211737   \n",
      "34               Algeria  2002  31287142.0    Africa   70.994  5288.040382   \n",
      "46                Angola  2002  10866106.0    Africa   41.003  2773.287312   \n",
      "58             Argentina  2002  38331121.0  Americas   74.340  8797.640716   \n",
      "...                  ...   ...         ...       ...      ...          ...   \n",
      "1654             Vietnam  2002  80908147.0      Asia   73.017  1764.456677   \n",
      "1666  West Bank and Gaza  2002   3389578.0      Asia   72.370  4515.487575   \n",
      "1678          Yemen Rep.  2002  18701257.0      Asia   60.308  2234.820827   \n",
      "1690              Zambia  2002  10595811.0    Africa   39.193  1071.613938   \n",
      "1702            Zimbabwe  2002  11926563.0    Africa   39.989   672.038623   \n",
      "\n",
      "         pop_diff  \n",
      "10    6.62152e+06  \n",
      "22          92011  \n",
      "34    2.04607e+06  \n",
      "46    1.55437e+06  \n",
      "58    1.97081e+06  \n",
      "...           ...  \n",
      "1654  4.35421e+06  \n",
      "1666       628754  \n",
      "1678  3.51049e+06  \n",
      "1690  1.15022e+06  \n",
      "1702       384580  \n",
      "\n",
      "[140 rows x 7 columns]>\n"
     ]
    },
    {
     "name": "stderr",
     "output_type": "stream",
     "text": [
      "c:\\users\\sagem\\appdata\\local\\programs\\python\\python37\\lib\\site-packages\\pandas\\core\\indexing.py:670: SettingWithCopyWarning: \n",
      "A value is trying to be set on a copy of a slice from a DataFrame\n",
      "\n",
      "See the caveats in the documentation: https://pandas.pydata.org/pandas-docs/stable/user_guide/indexing.html#returning-a-view-versus-a-copy\n"
     ]
    }
   ],
   "source": [
    "# First I want to get the population change from 2002 to 2007\n",
    "# Filter out all other years\n",
    "gapminder_subset = gapminder >> sift((X.year == 2002) | (X.year == 2007)) >> sift(X.continent != \"Oceania\")\n",
    "# gapminder_subset = gapminder >> sift(X.year in [2002, 2007]) # This is not working and I have no idea why\n",
    "gapminder_subset[\"year\"]=gapminder_subset[\"year\"].values.astype(str)\n",
    "print(gapminder_subset.head)\n",
    "\n",
    "# Now I want to calculate the population differences from 2002 to 2007\n",
    "# Because I can't get pivot working (data type conversion issue between series and df), I'll try a for loop\n",
    "gapminder_subset[\"pop_diff\"] = \"\"\n",
    "\n",
    "for i in range(len(gapminder_subset)):\n",
    "    if gapminder_subset[\"year\"].iloc[i] == \"2002\" and gapminder_subset[\"country\"].iloc[i] == gapminder_subset[\"country\"].iloc[i+1] and gapminder_subset[\"year\"].iloc[i+1] == \"2007\":\n",
    "        gapminder_subset[\"pop_diff\"].iloc[i] = float(gapminder_subset[\"pop\"].iloc[i+1]) - float(gapminder_subset[\"pop\"].iloc[i])\n",
    "    else:\n",
    "        gapminder_subset[\"pop_diff\"].iloc[i] = -999999.9\n",
    "        \n",
    "gapminder_subset = gapminder_subset >> sift(X.pop_diff != -999999.9)\n",
    "\n",
    "print(gapminder_subset.head)\n",
    "\n",
    "# The pivot is creating series, which I can't figure out how to deal with\n",
    "# gapminder_wide = gapminder_subset.pivot(index = [\"country\", \"continent\"], columns = \"year\", values = \"pop\") \n",
    "# print(gapminder_wide.head)\n",
    "# print(gapminder_wide.columns)\n"
   ]
  },
  {
   "cell_type": "code",
   "execution_count": 4,
   "id": "742f4654-c512-4750-bb2a-91528ba21349",
   "metadata": {},
   "outputs": [
    {
     "data": {
      "text/plain": [
       "float"
      ]
     },
     "execution_count": 4,
     "metadata": {},
     "output_type": "execute_result"
    }
   ],
   "source": [
    "type(gapminder_subset[\"pop_diff\"].iloc[20])\n",
    "# This is a float...why does plotnine think it's discrete AHHHHHHHHHHHHHHHHHHH"
   ]
  },
  {
   "cell_type": "code",
   "execution_count": 4,
   "id": "f1aeae64-b6db-4a0c-83f8-d3cf4d23ea66",
   "metadata": {},
   "outputs": [
    {
     "name": "stdout",
     "output_type": "stream",
     "text": [
      "0     2.04607e+06\n",
      "1     1.55437e+06\n",
      "2      1.0522e+06\n",
      "3            8784\n",
      "4     2.07499e+06\n",
      "5     1.36943e+06\n",
      "6     1.76630e+06\n",
      "7          321025\n",
      "8     1.40307e+06\n",
      "9           96578\n",
      "10    9.22691e+06\n",
      "11         471815\n",
      "12    1.76068e+06\n",
      "13          48958\n",
      "14    6.95198e+06\n",
      "15          55574\n",
      "16         491720\n",
      "17    8.56509e+06\n",
      "18         155563\n",
      "19         230593\n",
      "20    2.32259e+06\n",
      "21       1.14e+06\n",
      "22         139582\n",
      "23    4.22334e+06\n",
      "24         -34123\n",
      "25         379291\n",
      "26         668329\n",
      "27    2.69418e+06\n",
      "28    1.50258e+06\n",
      "29    1.45162e+06\n",
      "30         441207\n",
      "31          50676\n",
      "32    2.58939e+06\n",
      "33    1.47788e+06\n",
      "34          82927\n",
      "35    1.75421e+06\n",
      "36    1.51299e+07\n",
      "37          54113\n",
      "38    1.00819e+06\n",
      "39          29207\n",
      "40    1.39746e+06\n",
      "41         785470\n",
      "42    1.36546e+06\n",
      "43        -435794\n",
      "44    5.20263e+06\n",
      "45           2797\n",
      "46    3.54586e+06\n",
      "47         724201\n",
      "48         505583\n",
      "49    4.43053e+06\n",
      "50    1.15022e+06\n",
      "51         384580\n",
      "Name: y, dtype: object\n",
      "object\n",
      "O\n",
      "ifuc\n",
      "<class 'str'>\n",
      "i\n",
      "f\n",
      "u\n",
      "c\n"
     ]
    },
    {
     "ename": "TypeError",
     "evalue": "Discrete value supplied to continuous scale",
     "output_type": "error",
     "traceback": [
      "\u001b[1;31m---------------------------------------------------------------------------\u001b[0m",
      "\u001b[1;31mTypeError\u001b[0m                                 Traceback (most recent call last)",
      "\u001b[1;32mc:\\users\\sagem\\appdata\\local\\programs\\python\\python37\\lib\\site-packages\\IPython\\core\\formatters.py\u001b[0m in \u001b[0;36m__call__\u001b[1;34m(self, obj)\u001b[0m\n\u001b[0;32m    700\u001b[0m                 \u001b[0mtype_pprinters\u001b[0m\u001b[1;33m=\u001b[0m\u001b[0mself\u001b[0m\u001b[1;33m.\u001b[0m\u001b[0mtype_printers\u001b[0m\u001b[1;33m,\u001b[0m\u001b[1;33m\u001b[0m\u001b[1;33m\u001b[0m\u001b[0m\n\u001b[0;32m    701\u001b[0m                 deferred_pprinters=self.deferred_printers)\n\u001b[1;32m--> 702\u001b[1;33m             \u001b[0mprinter\u001b[0m\u001b[1;33m.\u001b[0m\u001b[0mpretty\u001b[0m\u001b[1;33m(\u001b[0m\u001b[0mobj\u001b[0m\u001b[1;33m)\u001b[0m\u001b[1;33m\u001b[0m\u001b[1;33m\u001b[0m\u001b[0m\n\u001b[0m\u001b[0;32m    703\u001b[0m             \u001b[0mprinter\u001b[0m\u001b[1;33m.\u001b[0m\u001b[0mflush\u001b[0m\u001b[1;33m(\u001b[0m\u001b[1;33m)\u001b[0m\u001b[1;33m\u001b[0m\u001b[1;33m\u001b[0m\u001b[0m\n\u001b[0;32m    704\u001b[0m             \u001b[1;32mreturn\u001b[0m \u001b[0mstream\u001b[0m\u001b[1;33m.\u001b[0m\u001b[0mgetvalue\u001b[0m\u001b[1;33m(\u001b[0m\u001b[1;33m)\u001b[0m\u001b[1;33m\u001b[0m\u001b[1;33m\u001b[0m\u001b[0m\n",
      "\u001b[1;32mc:\\users\\sagem\\appdata\\local\\programs\\python\\python37\\lib\\site-packages\\IPython\\lib\\pretty.py\u001b[0m in \u001b[0;36mpretty\u001b[1;34m(self, obj)\u001b[0m\n\u001b[0;32m    392\u001b[0m                         \u001b[1;32mif\u001b[0m \u001b[0mcls\u001b[0m \u001b[1;32mis\u001b[0m \u001b[1;32mnot\u001b[0m \u001b[0mobject\u001b[0m\u001b[0;31m \u001b[0m\u001b[0;31m\\\u001b[0m\u001b[1;33m\u001b[0m\u001b[1;33m\u001b[0m\u001b[0m\n\u001b[0;32m    393\u001b[0m                                 \u001b[1;32mand\u001b[0m \u001b[0mcallable\u001b[0m\u001b[1;33m(\u001b[0m\u001b[0mcls\u001b[0m\u001b[1;33m.\u001b[0m\u001b[0m__dict__\u001b[0m\u001b[1;33m.\u001b[0m\u001b[0mget\u001b[0m\u001b[1;33m(\u001b[0m\u001b[1;34m'__repr__'\u001b[0m\u001b[1;33m)\u001b[0m\u001b[1;33m)\u001b[0m\u001b[1;33m:\u001b[0m\u001b[1;33m\u001b[0m\u001b[1;33m\u001b[0m\u001b[0m\n\u001b[1;32m--> 394\u001b[1;33m                             \u001b[1;32mreturn\u001b[0m \u001b[0m_repr_pprint\u001b[0m\u001b[1;33m(\u001b[0m\u001b[0mobj\u001b[0m\u001b[1;33m,\u001b[0m \u001b[0mself\u001b[0m\u001b[1;33m,\u001b[0m \u001b[0mcycle\u001b[0m\u001b[1;33m)\u001b[0m\u001b[1;33m\u001b[0m\u001b[1;33m\u001b[0m\u001b[0m\n\u001b[0m\u001b[0;32m    395\u001b[0m \u001b[1;33m\u001b[0m\u001b[0m\n\u001b[0;32m    396\u001b[0m             \u001b[1;32mreturn\u001b[0m \u001b[0m_default_pprint\u001b[0m\u001b[1;33m(\u001b[0m\u001b[0mobj\u001b[0m\u001b[1;33m,\u001b[0m \u001b[0mself\u001b[0m\u001b[1;33m,\u001b[0m \u001b[0mcycle\u001b[0m\u001b[1;33m)\u001b[0m\u001b[1;33m\u001b[0m\u001b[1;33m\u001b[0m\u001b[0m\n",
      "\u001b[1;32mc:\\users\\sagem\\appdata\\local\\programs\\python\\python37\\lib\\site-packages\\IPython\\lib\\pretty.py\u001b[0m in \u001b[0;36m_repr_pprint\u001b[1;34m(obj, p, cycle)\u001b[0m\n\u001b[0;32m    698\u001b[0m     \u001b[1;34m\"\"\"A pprint that just redirects to the normal repr function.\"\"\"\u001b[0m\u001b[1;33m\u001b[0m\u001b[1;33m\u001b[0m\u001b[0m\n\u001b[0;32m    699\u001b[0m     \u001b[1;31m# Find newlines and replace them with p.break_()\u001b[0m\u001b[1;33m\u001b[0m\u001b[1;33m\u001b[0m\u001b[1;33m\u001b[0m\u001b[0m\n\u001b[1;32m--> 700\u001b[1;33m     \u001b[0moutput\u001b[0m \u001b[1;33m=\u001b[0m \u001b[0mrepr\u001b[0m\u001b[1;33m(\u001b[0m\u001b[0mobj\u001b[0m\u001b[1;33m)\u001b[0m\u001b[1;33m\u001b[0m\u001b[1;33m\u001b[0m\u001b[0m\n\u001b[0m\u001b[0;32m    701\u001b[0m     \u001b[0mlines\u001b[0m \u001b[1;33m=\u001b[0m \u001b[0moutput\u001b[0m\u001b[1;33m.\u001b[0m\u001b[0msplitlines\u001b[0m\u001b[1;33m(\u001b[0m\u001b[1;33m)\u001b[0m\u001b[1;33m\u001b[0m\u001b[1;33m\u001b[0m\u001b[0m\n\u001b[0;32m    702\u001b[0m     \u001b[1;32mwith\u001b[0m \u001b[0mp\u001b[0m\u001b[1;33m.\u001b[0m\u001b[0mgroup\u001b[0m\u001b[1;33m(\u001b[0m\u001b[1;33m)\u001b[0m\u001b[1;33m:\u001b[0m\u001b[1;33m\u001b[0m\u001b[1;33m\u001b[0m\u001b[0m\n",
      "\u001b[1;32mc:\\users\\sagem\\appdata\\local\\programs\\python\\python37\\lib\\site-packages\\plotnine\\ggplot.py\u001b[0m in \u001b[0;36m__repr__\u001b[1;34m(self)\u001b[0m\n\u001b[0;32m     95\u001b[0m         \u001b[0mPrint\u001b[0m\u001b[1;33m/\u001b[0m\u001b[0mshow\u001b[0m \u001b[0mthe\u001b[0m \u001b[0mplot\u001b[0m\u001b[1;33m\u001b[0m\u001b[1;33m\u001b[0m\u001b[0m\n\u001b[0;32m     96\u001b[0m         \"\"\"\n\u001b[1;32m---> 97\u001b[1;33m         \u001b[0mself\u001b[0m\u001b[1;33m.\u001b[0m\u001b[0m__str__\u001b[0m\u001b[1;33m(\u001b[0m\u001b[1;33m)\u001b[0m\u001b[1;33m\u001b[0m\u001b[1;33m\u001b[0m\u001b[0m\n\u001b[0m\u001b[0;32m     98\u001b[0m         \u001b[1;32mreturn\u001b[0m \u001b[1;34m'<ggplot: (%d)>'\u001b[0m \u001b[1;33m%\u001b[0m \u001b[0mself\u001b[0m\u001b[1;33m.\u001b[0m\u001b[0m__hash__\u001b[0m\u001b[1;33m(\u001b[0m\u001b[1;33m)\u001b[0m\u001b[1;33m\u001b[0m\u001b[1;33m\u001b[0m\u001b[0m\n\u001b[0;32m     99\u001b[0m \u001b[1;33m\u001b[0m\u001b[0m\n",
      "\u001b[1;32mc:\\users\\sagem\\appdata\\local\\programs\\python\\python37\\lib\\site-packages\\plotnine\\ggplot.py\u001b[0m in \u001b[0;36m__str__\u001b[1;34m(self)\u001b[0m\n\u001b[0;32m     86\u001b[0m         \u001b[0mPrint\u001b[0m\u001b[1;33m/\u001b[0m\u001b[0mshow\u001b[0m \u001b[0mthe\u001b[0m \u001b[0mplot\u001b[0m\u001b[1;33m\u001b[0m\u001b[1;33m\u001b[0m\u001b[0m\n\u001b[0;32m     87\u001b[0m         \"\"\"\n\u001b[1;32m---> 88\u001b[1;33m         \u001b[0mself\u001b[0m\u001b[1;33m.\u001b[0m\u001b[0mdraw\u001b[0m\u001b[1;33m(\u001b[0m\u001b[0mshow\u001b[0m\u001b[1;33m=\u001b[0m\u001b[1;32mTrue\u001b[0m\u001b[1;33m)\u001b[0m\u001b[1;33m\u001b[0m\u001b[1;33m\u001b[0m\u001b[0m\n\u001b[0m\u001b[0;32m     89\u001b[0m \u001b[1;33m\u001b[0m\u001b[0m\n\u001b[0;32m     90\u001b[0m         \u001b[1;31m# Return and empty string so that print(p) is \"pretty\"\u001b[0m\u001b[1;33m\u001b[0m\u001b[1;33m\u001b[0m\u001b[1;33m\u001b[0m\u001b[0m\n",
      "\u001b[1;32mc:\\users\\sagem\\appdata\\local\\programs\\python\\python37\\lib\\site-packages\\plotnine\\ggplot.py\u001b[0m in \u001b[0;36mdraw\u001b[1;34m(self, return_ggplot, show)\u001b[0m\n\u001b[0;32m    203\u001b[0m         \u001b[0mself\u001b[0m \u001b[1;33m=\u001b[0m \u001b[0mdeepcopy\u001b[0m\u001b[1;33m(\u001b[0m\u001b[0mself\u001b[0m\u001b[1;33m)\u001b[0m\u001b[1;33m\u001b[0m\u001b[1;33m\u001b[0m\u001b[0m\n\u001b[0;32m    204\u001b[0m         \u001b[1;32mwith\u001b[0m \u001b[0mplot_context\u001b[0m\u001b[1;33m(\u001b[0m\u001b[0mself\u001b[0m\u001b[1;33m,\u001b[0m \u001b[0mshow\u001b[0m\u001b[1;33m=\u001b[0m\u001b[0mshow\u001b[0m\u001b[1;33m)\u001b[0m\u001b[1;33m:\u001b[0m\u001b[1;33m\u001b[0m\u001b[1;33m\u001b[0m\u001b[0m\n\u001b[1;32m--> 205\u001b[1;33m             \u001b[0mself\u001b[0m\u001b[1;33m.\u001b[0m\u001b[0m_build\u001b[0m\u001b[1;33m(\u001b[0m\u001b[1;33m)\u001b[0m\u001b[1;33m\u001b[0m\u001b[1;33m\u001b[0m\u001b[0m\n\u001b[0m\u001b[0;32m    206\u001b[0m \u001b[1;33m\u001b[0m\u001b[0m\n\u001b[0;32m    207\u001b[0m             \u001b[1;31m# setup\u001b[0m\u001b[1;33m\u001b[0m\u001b[1;33m\u001b[0m\u001b[1;33m\u001b[0m\u001b[0m\n",
      "\u001b[1;32mc:\\users\\sagem\\appdata\\local\\programs\\python\\python37\\lib\\site-packages\\plotnine\\ggplot.py\u001b[0m in \u001b[0;36m_build\u001b[1;34m(self)\u001b[0m\n\u001b[0;32m    294\u001b[0m         \u001b[1;31m# Map and train positions so that statistics have access\u001b[0m\u001b[1;33m\u001b[0m\u001b[1;33m\u001b[0m\u001b[1;33m\u001b[0m\u001b[0m\n\u001b[0;32m    295\u001b[0m         \u001b[1;31m# to ranges and all positions are numeric\u001b[0m\u001b[1;33m\u001b[0m\u001b[1;33m\u001b[0m\u001b[1;33m\u001b[0m\u001b[0m\n\u001b[1;32m--> 296\u001b[1;33m         \u001b[0mlayout\u001b[0m\u001b[1;33m.\u001b[0m\u001b[0mtrain_position\u001b[0m\u001b[1;33m(\u001b[0m\u001b[0mlayers\u001b[0m\u001b[1;33m,\u001b[0m \u001b[0mscales\u001b[0m\u001b[1;33m.\u001b[0m\u001b[0mx\u001b[0m\u001b[1;33m,\u001b[0m \u001b[0mscales\u001b[0m\u001b[1;33m.\u001b[0m\u001b[0my\u001b[0m\u001b[1;33m)\u001b[0m\u001b[1;33m\u001b[0m\u001b[1;33m\u001b[0m\u001b[0m\n\u001b[0m\u001b[0;32m    297\u001b[0m         \u001b[0mlayout\u001b[0m\u001b[1;33m.\u001b[0m\u001b[0mmap_position\u001b[0m\u001b[1;33m(\u001b[0m\u001b[0mlayers\u001b[0m\u001b[1;33m)\u001b[0m\u001b[1;33m\u001b[0m\u001b[1;33m\u001b[0m\u001b[0m\n\u001b[0;32m    298\u001b[0m \u001b[1;33m\u001b[0m\u001b[0m\n",
      "\u001b[1;32mc:\\users\\sagem\\appdata\\local\\programs\\python\\python37\\lib\\site-packages\\plotnine\\facets\\layout.py\u001b[0m in \u001b[0;36mtrain_position\u001b[1;34m(self, layers, x_scale, y_scale)\u001b[0m\n\u001b[0;32m     86\u001b[0m             \u001b[0mself\u001b[0m\u001b[1;33m.\u001b[0m\u001b[0mpanel_scales_y\u001b[0m \u001b[1;33m=\u001b[0m \u001b[0mresult\u001b[0m\u001b[1;33m.\u001b[0m\u001b[0my\u001b[0m\u001b[1;33m\u001b[0m\u001b[1;33m\u001b[0m\u001b[0m\n\u001b[0;32m     87\u001b[0m \u001b[1;33m\u001b[0m\u001b[0m\n\u001b[1;32m---> 88\u001b[1;33m         \u001b[0mself\u001b[0m\u001b[1;33m.\u001b[0m\u001b[0mfacet\u001b[0m\u001b[1;33m.\u001b[0m\u001b[0mtrain_position_scales\u001b[0m\u001b[1;33m(\u001b[0m\u001b[0mself\u001b[0m\u001b[1;33m,\u001b[0m \u001b[0mlayers\u001b[0m\u001b[1;33m)\u001b[0m\u001b[1;33m\u001b[0m\u001b[1;33m\u001b[0m\u001b[0m\n\u001b[0m\u001b[0;32m     89\u001b[0m \u001b[1;33m\u001b[0m\u001b[0m\n\u001b[0;32m     90\u001b[0m     \u001b[1;32mdef\u001b[0m \u001b[0mmap_position\u001b[0m\u001b[1;33m(\u001b[0m\u001b[0mself\u001b[0m\u001b[1;33m,\u001b[0m \u001b[0mlayers\u001b[0m\u001b[1;33m)\u001b[0m\u001b[1;33m:\u001b[0m\u001b[1;33m\u001b[0m\u001b[1;33m\u001b[0m\u001b[0m\n",
      "\u001b[1;32mc:\\users\\sagem\\appdata\\local\\programs\\python\\python37\\lib\\site-packages\\plotnine\\facets\\facet.py\u001b[0m in \u001b[0;36mtrain_position_scales\u001b[1;34m(self, layout, layers)\u001b[0m\n\u001b[0;32m    234\u001b[0m                 \u001b[1;31m# the scale index for each data point\u001b[0m\u001b[1;33m\u001b[0m\u001b[1;33m\u001b[0m\u001b[1;33m\u001b[0m\u001b[0m\n\u001b[0;32m    235\u001b[0m                 \u001b[0mSCALE_Y\u001b[0m \u001b[1;33m=\u001b[0m \u001b[0m_layout\u001b[0m\u001b[1;33m[\u001b[0m\u001b[1;34m'SCALE_Y'\u001b[0m\u001b[1;33m]\u001b[0m\u001b[1;33m.\u001b[0m\u001b[0miloc\u001b[0m\u001b[1;33m[\u001b[0m\u001b[0mmatch_id\u001b[0m\u001b[1;33m]\u001b[0m\u001b[1;33m.\u001b[0m\u001b[0mtolist\u001b[0m\u001b[1;33m(\u001b[0m\u001b[1;33m)\u001b[0m\u001b[1;33m\u001b[0m\u001b[1;33m\u001b[0m\u001b[0m\n\u001b[1;32m--> 236\u001b[1;33m                 \u001b[0mpanel_scales_y\u001b[0m\u001b[1;33m.\u001b[0m\u001b[0mtrain\u001b[0m\u001b[1;33m(\u001b[0m\u001b[0mdata\u001b[0m\u001b[1;33m,\u001b[0m \u001b[0my_vars\u001b[0m\u001b[1;33m,\u001b[0m \u001b[0mSCALE_Y\u001b[0m\u001b[1;33m)\u001b[0m\u001b[1;33m\u001b[0m\u001b[1;33m\u001b[0m\u001b[0m\n\u001b[0m\u001b[0;32m    237\u001b[0m \u001b[1;33m\u001b[0m\u001b[0m\n\u001b[0;32m    238\u001b[0m         \u001b[1;32mreturn\u001b[0m \u001b[0mself\u001b[0m\u001b[1;33m\u001b[0m\u001b[1;33m\u001b[0m\u001b[0m\n",
      "\u001b[1;32mc:\\users\\sagem\\appdata\\local\\programs\\python\\python37\\lib\\site-packages\\plotnine\\scales\\scales.py\u001b[0m in \u001b[0;36mtrain\u001b[1;34m(self, data, vars, idx)\u001b[0m\n\u001b[0;32m    120\u001b[0m             \u001b[1;32mfor\u001b[0m \u001b[0mi\u001b[0m\u001b[1;33m,\u001b[0m \u001b[0msc\u001b[0m \u001b[1;32min\u001b[0m \u001b[0menumerate\u001b[0m\u001b[1;33m(\u001b[0m\u001b[0mself\u001b[0m\u001b[1;33m,\u001b[0m \u001b[0mstart\u001b[0m\u001b[1;33m=\u001b[0m\u001b[1;36m1\u001b[0m\u001b[1;33m)\u001b[0m\u001b[1;33m:\u001b[0m\u001b[1;33m\u001b[0m\u001b[1;33m\u001b[0m\u001b[0m\n\u001b[0;32m    121\u001b[0m                 \u001b[0mbool_idx\u001b[0m \u001b[1;33m=\u001b[0m \u001b[1;33m(\u001b[0m\u001b[0mi\u001b[0m \u001b[1;33m==\u001b[0m \u001b[0midx\u001b[0m\u001b[1;33m)\u001b[0m\u001b[1;33m\u001b[0m\u001b[1;33m\u001b[0m\u001b[0m\n\u001b[1;32m--> 122\u001b[1;33m                 \u001b[0msc\u001b[0m\u001b[1;33m.\u001b[0m\u001b[0mtrain\u001b[0m\u001b[1;33m(\u001b[0m\u001b[0mdata\u001b[0m\u001b[1;33m.\u001b[0m\u001b[0mloc\u001b[0m\u001b[1;33m[\u001b[0m\u001b[0mbool_idx\u001b[0m\u001b[1;33m,\u001b[0m \u001b[0mcol\u001b[0m\u001b[1;33m]\u001b[0m\u001b[1;33m)\u001b[0m\u001b[1;33m\u001b[0m\u001b[1;33m\u001b[0m\u001b[0m\n\u001b[0m\u001b[0;32m    123\u001b[0m \u001b[1;33m\u001b[0m\u001b[0m\n\u001b[0;32m    124\u001b[0m     \u001b[1;32mdef\u001b[0m \u001b[0mmap\u001b[0m\u001b[1;33m(\u001b[0m\u001b[0mself\u001b[0m\u001b[1;33m,\u001b[0m \u001b[0mdata\u001b[0m\u001b[1;33m,\u001b[0m \u001b[0mvars\u001b[0m\u001b[1;33m,\u001b[0m \u001b[0midx\u001b[0m\u001b[1;33m)\u001b[0m\u001b[1;33m:\u001b[0m\u001b[1;33m\u001b[0m\u001b[1;33m\u001b[0m\u001b[0m\n",
      "\u001b[1;32mc:\\users\\sagem\\appdata\\local\\programs\\python\\python37\\lib\\site-packages\\plotnine\\scales\\scale.py\u001b[0m in \u001b[0;36mtrain\u001b[1;34m(self, x)\u001b[0m\n\u001b[0;32m    674\u001b[0m             \u001b[1;32mreturn\u001b[0m\u001b[1;33m\u001b[0m\u001b[1;33m\u001b[0m\u001b[0m\n\u001b[0;32m    675\u001b[0m \u001b[1;33m\u001b[0m\u001b[0m\n\u001b[1;32m--> 676\u001b[1;33m         \u001b[0mself\u001b[0m\u001b[1;33m.\u001b[0m\u001b[0mrange\u001b[0m\u001b[1;33m.\u001b[0m\u001b[0mtrain\u001b[0m\u001b[1;33m(\u001b[0m\u001b[0mx\u001b[0m\u001b[1;33m)\u001b[0m\u001b[1;33m\u001b[0m\u001b[1;33m\u001b[0m\u001b[0m\n\u001b[0m\u001b[0;32m    677\u001b[0m \u001b[1;33m\u001b[0m\u001b[0m\n\u001b[0;32m    678\u001b[0m     \u001b[1;32mdef\u001b[0m \u001b[0mtransform_df\u001b[0m\u001b[1;33m(\u001b[0m\u001b[0mself\u001b[0m\u001b[1;33m,\u001b[0m \u001b[0mdf\u001b[0m\u001b[1;33m)\u001b[0m\u001b[1;33m:\u001b[0m\u001b[1;33m\u001b[0m\u001b[1;33m\u001b[0m\u001b[0m\n",
      "\u001b[1;32mc:\\users\\sagem\\appdata\\local\\programs\\python\\python37\\lib\\site-packages\\plotnine\\scales\\range.py\u001b[0m in \u001b[0;36mtrain\u001b[1;34m(self, x)\u001b[0m\n\u001b[0;32m     30\u001b[0m         \u001b[0mTrain\u001b[0m \u001b[0mcontinuous\u001b[0m \u001b[0mrange\u001b[0m\u001b[1;33m\u001b[0m\u001b[1;33m\u001b[0m\u001b[0m\n\u001b[0;32m     31\u001b[0m         \"\"\"\n\u001b[1;32m---> 32\u001b[1;33m         \u001b[0mself\u001b[0m\u001b[1;33m.\u001b[0m\u001b[0mrange\u001b[0m \u001b[1;33m=\u001b[0m \u001b[0mscale_continuous\u001b[0m\u001b[1;33m.\u001b[0m\u001b[0mtrain\u001b[0m\u001b[1;33m(\u001b[0m\u001b[0mx\u001b[0m\u001b[1;33m,\u001b[0m \u001b[0mself\u001b[0m\u001b[1;33m.\u001b[0m\u001b[0mrange\u001b[0m\u001b[1;33m)\u001b[0m\u001b[1;33m\u001b[0m\u001b[1;33m\u001b[0m\u001b[0m\n\u001b[0m\u001b[0;32m     33\u001b[0m \u001b[1;33m\u001b[0m\u001b[0m\n\u001b[0;32m     34\u001b[0m \u001b[1;33m\u001b[0m\u001b[0m\n",
      "\u001b[1;32mc:\\users\\sagem\\appdata\\local\\programs\\python\\python37\\lib\\site-packages\\mizani\\scale.py\u001b[0m in \u001b[0;36mtrain\u001b[1;34m(cls, new_data, old)\u001b[0m\n\u001b[0;32m    105\u001b[0m                 \u001b[0mprint\u001b[0m\u001b[1;33m(\u001b[0m\u001b[0mkind\u001b[0m\u001b[1;33m)\u001b[0m\u001b[1;33m\u001b[0m\u001b[1;33m\u001b[0m\u001b[0m\n\u001b[0;32m    106\u001b[0m             raise TypeError(\n\u001b[1;32m--> 107\u001b[1;33m                 \"Discrete value supplied to continuous scale\")\n\u001b[0m\u001b[0;32m    108\u001b[0m \u001b[1;33m\u001b[0m\u001b[0m\n\u001b[0;32m    109\u001b[0m         \u001b[1;32mif\u001b[0m \u001b[0mold\u001b[0m \u001b[1;32mis\u001b[0m \u001b[1;32mnot\u001b[0m \u001b[1;32mNone\u001b[0m\u001b[1;33m:\u001b[0m\u001b[1;33m\u001b[0m\u001b[1;33m\u001b[0m\u001b[0m\n",
      "\u001b[1;31mTypeError\u001b[0m: Discrete value supplied to continuous scale"
     ]
    }
   ],
   "source": [
    "# Create the plot\n",
    "(p9.ggplot(data = gapminder_subset,\n",
    "           mapping = p9.aes(y = \"pop_diff\", x = \"reorder(country, pop_diff)\", fill = \"continent\")) # Reorder orders the x axis by pop_diff\n",
    " + p9.geom_bar(stat = \"identity\") # Because I don't want a count, just the actual value \n",
    " + p9.facet_wrap(\"continent\", scales = \"free\") # scales = \"free\" allows the x and y axis limits and such be specific to each subplot\n",
    " + p9.theme_bw() \n",
    " + p9.scale_fill_manual([\"purple\", \"steelblue\", \"green\", \"goldenrod\"])\n",
    " + p9.theme(subplots_adjust = {'wspace' : 0.5, 'hspace' : 0.5, 'right' : 1.5, 'bottom' : -0.7})\n",
    " + p9.theme(axis_text_x = p9.element_text(rotation = 45, hjust = 1))  # Rotates axis text\n",
    " + p9.scale_y_continuous(labels = scientific_format(digits = 1)) # Force axis text to be in scientific notation... why is this discrete???\n",
    " + p9.theme(legend_position = \"none\") # Get rid of legend\n",
    " + p9.labs(x = \"Country\", y = \"Change in Population Between 2002 and 2007\") # Axes labels\n",
    " + p9.theme(axis_title_y = p9.element_text(family = \"sans\", size = 10), # Change text font and size\n",
    "            axis_title_x = p9.element_text(family = \"sans\", size = 10), \n",
    "            axis_text_y = p9.element_text(family = \"sans\", size = 8), \n",
    "            axis_text_x = p9.element_text(family = \"sans\", size = 8))\n",
    ")\n",
    "\n",
    "# Why do the bars seem to descend so regularly when sorted? Because for some reason pop_diff is discrete?? \n",
    "# This seems to be a bug with plotnine based on some stack overflow and github discussions\n",
    "# I also think this is why my negative numbers are not flipped upside down\n",
    "# Plotnine attempts to mirror ggplot but is not as good. Ideally, if I were to continue jusing python, it might\n",
    "# be better to try a plotting library that was built originally for python, but I don't have time to do this for the last \n",
    "# assignment\n",
    "# Well I edited the package file to give me more info about the error...my conclusion is that the series thing is once again my problem\n",
    "# WHAT THE HECK IS A SERIES IT IS CAUSING SO MANY PROBLEMS AHAHHAHHAHHAHRGGGHHHH\n"
   ]
  }
 ],
 "metadata": {
  "kernelspec": {
   "display_name": "Python 3 (ipykernel)",
   "language": "python",
   "name": "python3"
  },
  "language_info": {
   "codemirror_mode": {
    "name": "ipython",
    "version": 3
   },
   "file_extension": ".py",
   "mimetype": "text/x-python",
   "name": "python",
   "nbconvert_exporter": "python",
   "pygments_lexer": "ipython3",
   "version": "3.7.9"
  }
 },
 "nbformat": 4,
 "nbformat_minor": 5
}
