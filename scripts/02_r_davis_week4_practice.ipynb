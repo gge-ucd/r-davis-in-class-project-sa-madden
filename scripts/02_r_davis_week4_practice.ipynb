{
 "cells": [
  {
   "cell_type": "markdown",
   "id": "bb2ea89a-13b9-4d95-b900-089c5bac6636",
   "metadata": {},
   "source": [
    "# Week 4 practice\n",
    "## Sage Madden\n",
    "## 10/14/2021"
   ]
  },
  {
   "cell_type": "code",
   "execution_count": 1,
   "id": "f42ec335-b4f2-40ec-a501-3656d009be41",
   "metadata": {},
   "outputs": [],
   "source": [
    "# Import libraries\n",
    "import pandas as pd\n",
    "from dplython import (DplyFrame, X, diamonds, select, sift,\n",
    "  sample_n, sample_frac, head, arrange, mutate, group_by,\n",
    "  summarize, DelayFunction)"
   ]
  },
  {
   "cell_type": "code",
   "execution_count": 2,
   "id": "b9d295ba-324f-44bd-85f2-67d4ce53df4c",
   "metadata": {},
   "outputs": [],
   "source": [
    "# Read in survyes\n",
    "surveys_original = DplyFrame(pd.read_csv(\"../data/portal_data_joined.csv\"))"
   ]
  },
  {
   "cell_type": "code",
   "execution_count": 4,
   "id": "70a0fe47-eb5d-41a3-a437-514ea7fb4979",
   "metadata": {},
   "outputs": [
    {
     "name": "stdout",
     "output_type": "stream",
     "text": [
      "<bound method NDFrame.head of        year  sex  weight\n",
      "0      1977    M     NaN\n",
      "1      1977    M     NaN\n",
      "2      1977  NaN     NaN\n",
      "3      1977  NaN     NaN\n",
      "4      1977  NaN     NaN\n",
      "...     ...  ...     ...\n",
      "34750  1992  NaN     NaN\n",
      "34752  1989    M    11.0\n",
      "34753  1989    F    15.0\n",
      "34754  1992  NaN     NaN\n",
      "34756  1993  NaN     NaN\n",
      "\n",
      "[21486 rows x 3 columns]>\n"
     ]
    }
   ],
   "source": [
    "# Keep only observations before 1995\n",
    "# Also keep on year, sex, weight\n",
    "surveys = surveys_original >> sift(X.year < 1995) >> select(X.year, X.sex, X.weight)\n",
    "print(surveys.head)"
   ]
  },
  {
   "cell_type": "code",
   "execution_count": 5,
   "id": "421fc922-b85f-4a4e-a89d-59eb10f14ba9",
   "metadata": {},
   "outputs": [
    {
     "data": {
      "text/html": [
       "<div>\n",
       "<style scoped>\n",
       "    .dataframe tbody tr th:only-of-type {\n",
       "        vertical-align: middle;\n",
       "    }\n",
       "\n",
       "    .dataframe tbody tr th {\n",
       "        vertical-align: top;\n",
       "    }\n",
       "\n",
       "    .dataframe thead th {\n",
       "        text-align: right;\n",
       "    }\n",
       "</style>\n",
       "<table border=\"1\" class=\"dataframe\">\n",
       "  <thead>\n",
       "    <tr style=\"text-align: right;\">\n",
       "      <th></th>\n",
       "      <th>species_id</th>\n",
       "      <th>hindfoot_half</th>\n",
       "    </tr>\n",
       "  </thead>\n",
       "  <tbody>\n",
       "    <tr>\n",
       "      <th>0</th>\n",
       "      <td>NL</td>\n",
       "      <td>16.0</td>\n",
       "    </tr>\n",
       "    <tr>\n",
       "      <th>1</th>\n",
       "      <td>NL</td>\n",
       "      <td>15.5</td>\n",
       "    </tr>\n",
       "    <tr>\n",
       "      <th>11</th>\n",
       "      <td>NL</td>\n",
       "      <td>16.0</td>\n",
       "    </tr>\n",
       "    <tr>\n",
       "      <th>13</th>\n",
       "      <td>NL</td>\n",
       "      <td>17.0</td>\n",
       "    </tr>\n",
       "    <tr>\n",
       "      <th>14</th>\n",
       "      <td>NL</td>\n",
       "      <td>16.0</td>\n",
       "    </tr>\n",
       "  </tbody>\n",
       "</table>\n",
       "</div>"
      ],
      "text/plain": [
       "   species_id  hindfoot_half\n",
       "0          NL           16.0\n",
       "1          NL           15.5\n",
       "11         NL           16.0\n",
       "13         NL           17.0\n",
       "14         NL           16.0"
      ]
     },
     "execution_count": 5,
     "metadata": {},
     "output_type": "execute_result"
    }
   ],
   "source": [
    "# Create a new df that\n",
    "# Contains only the species_id column\n",
    "# And a new column called hindfoot_half containiong values that are half the hindfoot\n",
    "# In this hindfoot_half column, there are no NAs and all values are less than 30\n",
    "# Name it surveys_hindfoot_half\n",
    "surveys_hindfoot_half = surveys_original >> sift(X.hindfoot_length.isna() == False) >> mutate(hindfoot_half = (X.hindfoot_length / 2)) >> sift(X.hindfoot_half < 30) >> select(X.species_id, X.hindfoot_half)\n",
    "surveys_hindfoot_half.head()\n",
    "\n",
    "# I haven't figured out how to indent when piping in python..."
   ]
  },
  {
   "cell_type": "code",
   "execution_count": 6,
   "id": "6756acc2-2fea-4955-bc9c-fa92bfb159c1",
   "metadata": {},
   "outputs": [
    {
     "name": "stdout",
     "output_type": "stream",
     "text": [
      "<bound method NDFrame.head of    species_id  hindfoot_mean  hindfoot_max  hindfoot_min\n",
      "0          AH      33.000000          35.0          31.0\n",
      "1          BA      13.000000          16.0           6.0\n",
      "2          DM      35.982351          50.0          16.0\n",
      "3          DO      35.607551          64.0          26.0\n",
      "4          DS      49.948874          58.0          39.0\n",
      "5          NL      32.294227          70.0          21.0\n",
      "6          OL      20.532609          39.0          12.0\n",
      "7          OT      20.267415          50.0          13.0\n",
      "8          OX      19.125000          21.0          13.0\n",
      "9          PB      26.115922          47.0           2.0\n",
      "10         PE      20.195545          30.0          11.0\n",
      "11         PF      15.583389          38.0           7.0\n",
      "12         PH      25.774194          28.0          22.0\n",
      "13         PI      22.222222          23.0          20.0\n",
      "14         PL      20.027778          22.0          10.0\n",
      "15         PM      20.426210          36.0          16.0\n",
      "16         PP      21.751569          41.0          11.0\n",
      "17         PX      19.500000          20.0          19.0\n",
      "18         RF      17.520548          20.0          15.0\n",
      "19         RM      16.441851          22.0           6.0\n",
      "20         RO      15.375000          17.0          14.0\n",
      "21         RX      18.500000          20.0          17.0\n",
      "22         SF      26.707317          38.0          21.0\n",
      "23         SH      28.549618          39.0          20.0\n",
      "24         SO      25.658537          36.0          15.0>\n"
     ]
    }
   ],
   "source": [
    "# Use group_by and summarize to find mean, min, and max of hindfoot length for each species\n",
    "species_summ = surveys_original >> sift(X.hindfoot_length.isna() == False) >> group_by(X.species_id) >> summarize(hindfoot_mean = X.hindfoot_length.mean(),\n",
    "                                                                                                                hindfoot_max = X.hindfoot_length.max(),   \n",
    "                                                                                                                hindfoot_min = X.hindfoot_length.min())\n",
    "print(species_summ.head)"
   ]
  }
 ],
 "metadata": {
  "kernelspec": {
   "display_name": "Python 3 (ipykernel)",
   "language": "python",
   "name": "python3"
  },
  "language_info": {
   "codemirror_mode": {
    "name": "ipython",
    "version": 3
   },
   "file_extension": ".py",
   "mimetype": "text/x-python",
   "name": "python",
   "nbconvert_exporter": "python",
   "pygments_lexer": "ipython3",
   "version": "3.7.9"
  }
 },
 "nbformat": 4,
 "nbformat_minor": 5
}
